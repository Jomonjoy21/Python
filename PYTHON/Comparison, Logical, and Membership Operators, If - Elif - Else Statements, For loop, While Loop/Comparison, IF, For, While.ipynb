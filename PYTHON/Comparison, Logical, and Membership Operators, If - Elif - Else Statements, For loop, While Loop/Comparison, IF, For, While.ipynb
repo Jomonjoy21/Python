{
 "cells": [
  {
   "cell_type": "markdown",
   "id": "ed8236b8",
   "metadata": {},
   "source": [
    "# Comparison, Logical, and Membership Operators"
   ]
  },
  {
   "cell_type": "code",
   "execution_count": null,
   "id": "c453ba3b",
   "metadata": {},
   "outputs": [],
   "source": [
    "<, >, !=, ==, >=, <="
   ]
  },
  {
   "cell_type": "markdown",
   "id": "c19b5094",
   "metadata": {},
   "source": [
    "**Logical**"
   ]
  },
  {
   "cell_type": "markdown",
   "id": "7b6e875e",
   "metadata": {},
   "source": [
    "And & (Returns True if both statements are True), Or || (Returns True if one of the statements is True), Not ! (Reverse the result, returns True if the result is False)"
   ]
  },
  {
   "cell_type": "code",
   "execution_count": null,
   "id": "7529cfab",
   "metadata": {},
   "outputs": [],
   "source": [
    "(70 > 50)  and ('Tiger' > 'Cat')"
   ]
  },
  {
   "cell_type": "code",
   "execution_count": null,
   "id": "be2a52bd",
   "metadata": {},
   "outputs": [],
   "source": [
    "(70 < 50) or ('Tiger' == 'Cat')"
   ]
  },
  {
   "cell_type": "code",
   "execution_count": null,
   "id": "e199d5fd",
   "metadata": {},
   "outputs": [],
   "source": [
    "not (50 > 20)"
   ]
  },
  {
   "cell_type": "markdown",
   "id": "e1ed2145",
   "metadata": {},
   "source": [
    "**Memebership Operators**"
   ]
  },
  {
   "cell_type": "code",
   "execution_count": null,
   "id": "fa18c5e8",
   "metadata": {},
   "outputs": [],
   "source": [
    "in (Returns True if a sequence with the specified value is present in the object), not in (Returns True if a sequence with the specified value is not present in the object)"
   ]
  },
  {
   "cell_type": "code",
   "execution_count": null,
   "id": "2b337041",
   "metadata": {},
   "outputs": [],
   "source": [
    "#  ice_cream = 'Renato loves Chocolate ice cream'\n",
    "#  'loves' in 'Renato loves Chocolate ice cream'\n",
    "\n",
    "ice_cream = 'Renato loves Chocolate ice cream'\n",
    "'loves' in ice_cream"
   ]
  },
  {
   "cell_type": "code",
   "execution_count": null,
   "id": "c9dce14b",
   "metadata": {},
   "outputs": [],
   "source": [
    "numbers = [1, 2, 3, 4, 5]\n",
    "6 not in numbers"
   ]
  },
  {
   "cell_type": "markdown",
   "id": "42888870",
   "metadata": {},
   "source": [
    "# If - Elif - Else Statements"
   ]
  },
  {
   "cell_type": "code",
   "execution_count": null,
   "id": "bcf0e5d4",
   "metadata": {},
   "outputs": [],
   "source": [
    "if 34 > 12:\n",
    "    print('It worked!')"
   ]
  },
  {
   "cell_type": "code",
   "execution_count": null,
   "id": "f55d15b1",
   "metadata": {},
   "outputs": [],
   "source": [
    "if 34 < 12:\n",
    "    print('It worked')\n",
    "else:\n",
    "    print('It did not work...')"
   ]
  },
  {
   "cell_type": "code",
   "execution_count": null,
   "id": "2de58863",
   "metadata": {},
   "outputs": [],
   "source": [
    "if 34 < 12:\n",
    "    print('It worked')\n",
    "elif 34 > 12:\n",
    "    print('This worked!')\n",
    "else:\n",
    "    print('It did not work...')"
   ]
  },
  {
   "cell_type": "code",
   "execution_count": null,
   "id": "e08b7136",
   "metadata": {},
   "outputs": [],
   "source": [
    "# Another way to represent if else in one line is \n",
    "print('It worked!') if 34 > 12 else print('It did not work...')"
   ]
  },
  {
   "cell_type": "markdown",
   "id": "de7fe513",
   "metadata": {},
   "source": [
    "**Nested if and elif**"
   ]
  },
  {
   "cell_type": "code",
   "execution_count": null,
   "id": "561aa9a0",
   "metadata": {},
   "outputs": [],
   "source": [
    "if (34 < 12) or (1 < 3):\n",
    "    print('It worked!')\n",
    "    if 10 > 5:\n",
    "        print('This nested if statement worked!')\n",
    "elif 25 < 20:\n",
    "    print('elif worked!')\n",
    "elif 12 > 16:\n",
    "    print('elif worked!')\n",
    "elif 2 > 12:\n",
    "    print('elif worked!')\n",
    "else:\n",
    "    print('It did not work...')"
   ]
  },
  {
   "cell_type": "markdown",
   "id": "0465e3d5",
   "metadata": {},
   "source": [
    "# For Loops"
   ]
  },
  {
   "cell_type": "code",
   "execution_count": null,
   "id": "e05103a8",
   "metadata": {},
   "outputs": [],
   "source": [
    "integers = [1, 2, 3, 4, 5, 6]\n",
    "for numbers in integers:\n",
    "  # print(numbers)\n",
    "    print('Yep!')"
   ]
  },
  {
   "cell_type": "code",
   "execution_count": null,
   "id": "7ee61312",
   "metadata": {},
   "outputs": [],
   "source": [
    "ice_cream_dict = {'name': 'David fernanades', 'monthly intake': 5, 'favourate': ['strawberry', 'chocolate', 'vanilla', 'pineapple', 'Mango']}\n",
    "for cream in ice_cream_dict.values():\n",
    "    print(cream)"
   ]
  },
  {
   "cell_type": "code",
   "execution_count": null,
   "id": "095ea27b",
   "metadata": {},
   "outputs": [],
   "source": [
    "for key, value in ice_cream_dict.items():\n",
    "    print(key, '->', value)"
   ]
  },
  {
   "cell_type": "markdown",
   "id": "e01f8990",
   "metadata": {},
   "source": [
    "**Nested For Loop**"
   ]
  },
  {
   "cell_type": "code",
   "execution_count": null,
   "id": "d68c19fb",
   "metadata": {},
   "outputs": [],
   "source": [
    "flavours = ['Vanilla', 'Chocolate', 'Cookie Dough']\n",
    "toppings = ['Hot Fudge', 'Oreos', 'Marshmallow']\n",
    "for one in flavours:\n",
    "    for two in toppings:\n",
    "        print(one, 'topped with', two)"
   ]
  },
  {
   "cell_type": "markdown",
   "id": "cc93995d",
   "metadata": {},
   "source": [
    "# While Loop"
   ]
  },
  {
   "cell_type": "code",
   "execution_count": null,
   "id": "b3faf82e",
   "metadata": {},
   "outputs": [],
   "source": [
    "number = 0\n",
    "while number <= 5:\n",
    "    print(number)\n",
    "    number += 1"
   ]
  },
  {
   "cell_type": "code",
   "execution_count": null,
   "id": "1b4aa4e9",
   "metadata": {},
   "outputs": [],
   "source": [
    "number = 0\n",
    "while number <= 5:\n",
    "    print(number)\n",
    "    if number == 3: # If the number reaches 3 it breaks and no longer continues.\n",
    "        break\n",
    "    number += 1"
   ]
  },
  {
   "cell_type": "code",
   "execution_count": null,
   "id": "de6ebed2",
   "metadata": {},
   "outputs": [],
   "source": [
    "number = 0\n",
    "while number <= 5:\n",
    "    print(number)\n",
    "    if number == 6: # If the condition given here meets then it doesn't go to the else statement \n",
    "        break\n",
    "    number += 1\n",
    "else:\n",
    "    print('No Longer < 5')"
   ]
  },
  {
   "cell_type": "code",
   "execution_count": null,
   "id": "c7654fb1",
   "metadata": {},
   "outputs": [],
   "source": [
    "number = 0\n",
    "while number <= 5:\n",
    "    print(number)\n",
    "    if number == 3: # It will come to 3 and go straight back to while and restart and never gonna to execute balance portion of the code and creates a loop \n",
    "        continue\n",
    "    number += 1\n",
    "else:\n",
    "    print('No Longer < 5')"
   ]
  },
  {
   "cell_type": "code",
   "execution_count": null,
   "id": "c1277936",
   "metadata": {},
   "outputs": [],
   "source": [
    "number = 0\n",
    "while number <= 5:\n",
    "    number += 1\n",
    "    if number == 3: # if it reach the number 3 it will not print and continue will the loop\n",
    "        continue\n",
    "    print(number)\n",
    "else:\n",
    "    print('No Longer < 5')"
   ]
  }
 ],
 "metadata": {
  "kernelspec": {
   "display_name": "Python 3 (ipykernel)",
   "language": "python",
   "name": "python3"
  },
  "language_info": {
   "codemirror_mode": {
    "name": "ipython",
    "version": 3
   },
   "file_extension": ".py",
   "mimetype": "text/x-python",
   "name": "python",
   "nbconvert_exporter": "python",
   "pygments_lexer": "ipython3",
   "version": "3.9.13"
  }
 },
 "nbformat": 4,
 "nbformat_minor": 5
}
