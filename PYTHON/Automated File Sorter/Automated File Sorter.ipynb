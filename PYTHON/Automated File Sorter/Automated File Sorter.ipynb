{
 "cells": [
  {
   "cell_type": "markdown",
   "id": "a683dc45",
   "metadata": {},
   "source": [
    "# Automated File Sorter"
   ]
  },
  {
   "cell_type": "code",
   "execution_count": null,
   "id": "598498f4",
   "metadata": {},
   "outputs": [],
   "source": [
    "import os, shutil # 'shutil' helps to do some high level operations on files in file explorer"
   ]
  },
  {
   "cell_type": "code",
   "execution_count": null,
   "id": "aa2a7d7a",
   "metadata": {},
   "outputs": [],
   "source": [
    "# path = r\"C:\\Users\\hp\\OneDrive\\Documents\\Python Tutorials\" [This was orginal and we need to change all the backward slashes to froward and add one at the last inorder for the code to work]\n",
    "path = r\"C:/Users/hp/OneDrive/Documents/Python Tutorials/\" # if we don't put the 'r' then it will read backslash, colon etc... if we do then it will read it as the raw string "
   ]
  },
  {
   "cell_type": "code",
   "execution_count": null,
   "id": "5ab96169",
   "metadata": {},
   "outputs": [],
   "source": [
    "# os.listdir(path) [It will show us all the files in there]\n",
    "file_names = os.listdir(path)"
   ]
  },
  {
   "cell_type": "code",
   "execution_count": null,
   "id": "36e300db",
   "metadata": {},
   "outputs": [],
   "source": [
    "os.path.exists(path + 'Csv') # we need to check whether there is folder in there, and create if it isn't there"
   ]
  },
  {
   "cell_type": "code",
   "execution_count": null,
   "id": "4211892d",
   "metadata": {},
   "outputs": [],
   "source": [
    "folder_names = ['Csv', 'Img', 'Txt']\n",
    "for loop in range(0, 3): \n",
    "    if not os.path.exists(path + folder_names[loop]): # syntax to look for whether folder names already exists or not \n",
    "        print(path + folder_names[loop])\n",
    "        os.makedirs(path + folder_names[loop]) # Creating the folder names"
   ]
  },
  {
   "cell_type": "code",
   "execution_count": null,
   "id": "548145f8",
   "metadata": {},
   "outputs": [],
   "source": [
    "for file in file_names:\n",
    "    if \".csv\" in file and not os.path.exists(path + \"Csv/\" + file): # Checking whether scv file is there and not in the folder name\n",
    "        shutil.move(path + file, path + \"Csv/\" + file) # from, to created folder names \n",
    "    elif \".jpg\" in file and not os.path.exists(path + \"Img/\" + file):\n",
    "        shutil.move(path + file, path + \"Img/\" + file)\n",
    "    elif \".jpeg\" in file and not os.path.exists(path + \"Img/\" + file):\n",
    "        shutil.move(path + file, path + \"Img/\" + file)\n",
    "    elif \".txt\" in file and not os.path.exists(path + \"Txt/\" + file):\n",
    "        shutil.move(path + file, path + \"Txt/\" + file)\n",
    "   # else:\n",
    "      #  print('There are files in this path that are not moved')\n",
    "print('Files have been moved to their respective folders.')"
   ]
  },
  {
   "cell_type": "markdown",
   "id": "da9ae5db",
   "metadata": {},
   "source": [
    "Further improvements:\n",
    "The execution can be made to run in the background and also can do some timer to when it should do this execution, such as every single hour, daily and so on."
   ]
  }
 ],
 "metadata": {
  "kernelspec": {
   "display_name": "Python 3 (ipykernel)",
   "language": "python",
   "name": "python3"
  },
  "language_info": {
   "codemirror_mode": {
    "name": "ipython",
    "version": 3
   },
   "file_extension": ".py",
   "mimetype": "text/x-python",
   "name": "python",
   "nbconvert_exporter": "python",
   "pygments_lexer": "ipython3",
   "version": "3.9.13"
  }
 },
 "nbformat": 4,
 "nbformat_minor": 5
}
