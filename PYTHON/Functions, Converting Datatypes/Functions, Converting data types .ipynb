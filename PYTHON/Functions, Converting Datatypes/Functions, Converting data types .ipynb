{
 "cells": [
  {
   "cell_type": "markdown",
   "id": "8e30b750",
   "metadata": {},
   "source": [
    "# Functions"
   ]
  },
  {
   "cell_type": "code",
   "execution_count": null,
   "id": "967d97eb",
   "metadata": {},
   "outputs": [],
   "source": [
    "def first_func():\n",
    "    print('Hello World')\n",
    "first_func() # When called then only it will show the result "
   ]
  },
  {
   "cell_type": "markdown",
   "id": "1335cd00",
   "metadata": {},
   "source": [
    "**Passing argument to the function**"
   ]
  },
  {
   "cell_type": "code",
   "execution_count": null,
   "id": "51d6bcf7",
   "metadata": {},
   "outputs": [],
   "source": [
    "def sam_func(number): # Passing single arguments\n",
    "    print(number**4)\n",
    "sam_func(3)    "
   ]
  },
  {
   "cell_type": "code",
   "execution_count": null,
   "id": "8d181a94",
   "metadata": {},
   "outputs": [],
   "source": [
    "def sam_func_cust(number, power): # Passing multiple arguments\n",
    "    print(number**power)\n",
    "sam_func_cust(5, 3)"
   ]
  },
  {
   "cell_type": "markdown",
   "id": "f374f98e",
   "metadata": {},
   "source": [
    "**Arbituary Arguments**"
   ]
  },
  {
   "cell_type": "code",
   "execution_count": null,
   "id": "9c4e611e",
   "metadata": {},
   "outputs": [],
   "source": [
    "def sam_func_cust(*number): # The arguments are unknown\n",
    "    print(number[0]*number[4]) # It will take the values in the given indices and multiply\n",
    "sam_func_cust(5, 3, 5, 7, 9, 0, 2, 5) # We just passed a tuple "
   ]
  },
  {
   "cell_type": "code",
   "execution_count": null,
   "id": "bf4d66e9",
   "metadata": {},
   "outputs": [],
   "source": [
    "args_tuple = (5, 3, 5, 7, 9, 0, 2, 5) # Initialzing the tuple\n",
    "def sam_func_cu(*number): # The arguments are unknown\n",
    "    print(number[0]*number[4]) # It will take the values in the given indices and multiply\n",
    "sam_func_cu(*args_tuple) # We just passed a tuple and be sure to put this sign (*) before that"
   ]
  },
  {
   "cell_type": "code",
   "execution_count": null,
   "id": "328ee653",
   "metadata": {},
   "outputs": [],
   "source": [
    "def number_kwarg(**number): # If we are doing a keyword argument then we have to put two stars\n",
    "    print('My number is: ' + number['integer'])\n",
    "number_kwarg(integer = '2309')    "
   ]
  },
  {
   "cell_type": "code",
   "execution_count": null,
   "id": "01de02ed",
   "metadata": {},
   "outputs": [],
   "source": [
    "def number_kwarg(**number): # If we are doing a keyword argument then we have to put two stars\n",
    "    print('My number is: ' + number['integer'] + '. My other number is: ' + number['integer2'])\n",
    "number_kwarg(integer = '2309', integer2 = '349')"
   ]
  },
  {
   "cell_type": "markdown",
   "id": "f890809a",
   "metadata": {},
   "source": [
    "# Converting data types"
   ]
  },
  {
   "cell_type": "markdown",
   "id": "2b1a97a8",
   "metadata": {},
   "source": [
    "**Converting string to integer**"
   ]
  },
  {
   "cell_type": "code",
   "execution_count": null,
   "id": "35f0a284",
   "metadata": {},
   "outputs": [],
   "source": [
    "num_int = 3\n",
    "type(num_int)"
   ]
  },
  {
   "cell_type": "code",
   "execution_count": null,
   "id": "65e4d050",
   "metadata": {},
   "outputs": [],
   "source": [
    "num_str = '7'\n",
    "type(num_str)"
   ]
  },
  {
   "cell_type": "code",
   "execution_count": null,
   "id": "48ac3667",
   "metadata": {},
   "outputs": [],
   "source": [
    "num_strcon = int(num_str) # Converting String to Integer\n",
    "type(num_strcon)"
   ]
  },
  {
   "cell_type": "code",
   "execution_count": null,
   "id": "6bb62afd",
   "metadata": {},
   "outputs": [],
   "source": [
    "# num_add = num_int + num_str [When we try to add this two it won't work out so we need to convert it into string.]"
   ]
  },
  {
   "cell_type": "code",
   "execution_count": null,
   "id": "be353c12",
   "metadata": {},
   "outputs": [],
   "source": [
    "num_int + num_strcon"
   ]
  },
  {
   "cell_type": "markdown",
   "id": "dee83a3f",
   "metadata": {},
   "source": [
    "**Converting Lists, Sets and Tuples**"
   ]
  },
  {
   "cell_type": "code",
   "execution_count": null,
   "id": "e85316bc",
   "metadata": {},
   "outputs": [],
   "source": [
    "list_type = [1, 2, 3]\n",
    "tuple(list_type) # Converting List into Tuple\n",
    "# type(tuple(list_type)) [Checking the datatype]"
   ]
  },
  {
   "cell_type": "code",
   "execution_count": null,
   "id": "24e9e122",
   "metadata": {},
   "outputs": [],
   "source": [
    "list_type = [1, 2, 3, 4, 4, 3, 2, 1]\n",
    "set(list_type) # We have to be careful when converting the list to set as set does not have duplicates.\n",
    "# type(set(list_type)) [Checking the datatype]"
   ]
  },
  {
   "cell_type": "code",
   "execution_count": null,
   "id": "ada0e530",
   "metadata": {},
   "outputs": [],
   "source": [
    "dict_type = {'name': 'Irene', 'age': 20, 'hair': 'N/A'}\n",
    "type(dict_type)"
   ]
  },
  {
   "cell_type": "code",
   "execution_count": null,
   "id": "52a54a6e",
   "metadata": {},
   "outputs": [],
   "source": [
    "dict_type.items()"
   ]
  },
  {
   "cell_type": "code",
   "execution_count": null,
   "id": "b2e20ef9",
   "metadata": {},
   "outputs": [],
   "source": [
    "dict_type.values()"
   ]
  },
  {
   "cell_type": "code",
   "execution_count": null,
   "id": "16fa2a7d",
   "metadata": {},
   "outputs": [],
   "source": [
    "dict_type.keys()"
   ]
  },
  {
   "cell_type": "code",
   "execution_count": null,
   "id": "98759a54",
   "metadata": {},
   "outputs": [],
   "source": [
    "list(dict_type.keys()) # Converting dict to List, only the keys"
   ]
  },
  {
   "cell_type": "code",
   "execution_count": null,
   "id": "6291ea6b",
   "metadata": {},
   "outputs": [],
   "source": [
    "type(list(dict_type.keys()))"
   ]
  },
  {
   "cell_type": "code",
   "execution_count": null,
   "id": "81554c1a",
   "metadata": {},
   "outputs": [],
   "source": [
    "list(dict_type.values()) # Converting dict to List, only the values"
   ]
  },
  {
   "cell_type": "code",
   "execution_count": null,
   "id": "fb54118c",
   "metadata": {},
   "outputs": [],
   "source": [
    "list(dict_type.items()) # Converting dict to List, all ie; items"
   ]
  },
  {
   "cell_type": "code",
   "execution_count": null,
   "id": "943c05db",
   "metadata": {},
   "outputs": [],
   "source": [
    "long_str = 'I love to code'\n",
    "set(long_str)"
   ]
  },
  {
   "cell_type": "code",
   "execution_count": null,
   "id": "f1ecbf2f",
   "metadata": {},
   "outputs": [],
   "source": [
    "long_str = 'I love to code'\n",
    "list(long_str)"
   ]
  },
  {
   "cell_type": "code",
   "execution_count": null,
   "id": "948427a4",
   "metadata": {},
   "outputs": [],
   "source": [
    "long_str = 'I love to code'\n",
    "tuple(long_str)"
   ]
  }
 ],
 "metadata": {
  "kernelspec": {
   "display_name": "Python 3 (ipykernel)",
   "language": "python",
   "name": "python3"
  },
  "language_info": {
   "codemirror_mode": {
    "name": "ipython",
    "version": 3
   },
   "file_extension": ".py",
   "mimetype": "text/x-python",
   "name": "python",
   "nbconvert_exporter": "python",
   "pygments_lexer": "ipython3",
   "version": "3.9.13"
  }
 },
 "nbformat": 4,
 "nbformat_minor": 5
}
