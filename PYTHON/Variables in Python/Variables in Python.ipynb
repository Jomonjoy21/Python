{
 "cells": [
  {
   "cell_type": "markdown",
   "id": "6059aa43",
   "metadata": {},
   "source": [
    "# Variables in Python"
   ]
  },
  {
   "cell_type": "code",
   "execution_count": null,
   "id": "059d4957",
   "metadata": {},
   "outputs": [],
   "source": [
    "x = 25\n",
    "print(x)"
   ]
  },
  {
   "cell_type": "code",
   "execution_count": null,
   "id": "56025ddf",
   "metadata": {},
   "outputs": [],
   "source": [
    "type(x) # Checking the datatype"
   ]
  },
  {
   "cell_type": "code",
   "execution_count": null,
   "id": "b4b45434",
   "metadata": {},
   "outputs": [],
   "source": [
    "y = \"Variables in Python\"\n",
    "print(y)"
   ]
  },
  {
   "cell_type": "code",
   "execution_count": null,
   "id": "d81a6ec9",
   "metadata": {},
   "outputs": [],
   "source": [
    "type(y)"
   ]
  },
  {
   "cell_type": "code",
   "execution_count": null,
   "id": "42a36b13",
   "metadata": {},
   "outputs": [],
   "source": [
    "x, y, z = \"Pencil\", \"Eraser\", \"Sharpner\"\n",
    "print(x)\n",
    "print(y)\n",
    "print(z)"
   ]
  },
  {
   "cell_type": "code",
   "execution_count": null,
   "id": "70d11348",
   "metadata": {},
   "outputs": [],
   "source": [
    "x = y = z = \"variables in Python\"\n",
    "print(x)\n",
    "print(y)\n",
    "print(z)"
   ]
  },
  {
   "cell_type": "code",
   "execution_count": null,
   "id": "6e18e02f",
   "metadata": {},
   "outputs": [],
   "source": [
    "ice_cream = [\"Chocolate\", \"Vanilla\", \"Strawberry\"]\n",
    "x, y, z = ice_cream\n",
    "print(x)\n",
    "print(y)\n",
    "print(z)"
   ]
  },
  {
   "cell_type": "markdown",
   "id": "67fb0a65",
   "metadata": {},
   "source": [
    "**Camel Case** Test Variable Case"
   ]
  },
  {
   "cell_type": "code",
   "execution_count": null,
   "id": "aebbcca9",
   "metadata": {},
   "outputs": [],
   "source": [
    "testVariableCase = \"Peanut Butter\" \n",
    "# In this the first letter of the variable name is small letter and rest of the start with capital letter"
   ]
  },
  {
   "cell_type": "markdown",
   "id": "ee90ef65",
   "metadata": {},
   "source": [
    "**Pascal Case**    Test Variable Case"
   ]
  },
  {
   "cell_type": "code",
   "execution_count": null,
   "id": "0acb0ae5",
   "metadata": {},
   "outputs": [],
   "source": [
    "TestVariableCase = \"Peanut Butter\""
   ]
  },
  {
   "cell_type": "markdown",
   "id": "6aa2e645",
   "metadata": {},
   "source": [
    "**Snake Case** Test Variable Case"
   ]
  },
  {
   "cell_type": "code",
   "execution_count": null,
   "id": "b0f8848b",
   "metadata": {},
   "outputs": [],
   "source": [
    "test_variable_case = \"Peanut Butter\" # The best one to use is the Snake Case"
   ]
  },
  {
   "cell_type": "code",
   "execution_count": null,
   "id": "3bfa9ccc",
   "metadata": {},
   "outputs": [],
   "source": [
    "# Used Cases\n",
    "testvar = \"Peanut Butter\"\n",
    "test_var = \"Peanut Butter\"\n",
    "_test_var = \"Peanut Butter\"\n",
    "TestVar = \"Peanut Butter\"\n",
    "testVar = \"Peanut Butter\"\n",
    "Testvar2 = \"Peanut Butter\""
   ]
  },
  {
   "cell_type": "code",
   "execution_count": null,
   "id": "2b9078fe",
   "metadata": {},
   "outputs": [],
   "source": [
    "# Things which doesn't work \n",
    "2testVar = \"Peanut Butter\"\n",
    "test-var = \"Peanut Butter\"\n",
    "test, var = \"Peanut Butter\"\n",
    "test Var = \"Peanut Butter\""
   ]
  },
  {
   "cell_type": "code",
   "execution_count": null,
   "id": "bdb64227",
   "metadata": {},
   "outputs": [],
   "source": [
    "# Can concatenate String to String but cannot aggregate Stirng to Integer.\n",
    "x = \"Peanut butter is best for breakfast with bread.\" + \" Isn't it.\"\n",
    "print(x)"
   ]
  },
  {
   "cell_type": "code",
   "execution_count": null,
   "id": "d7212dbc",
   "metadata": {},
   "outputs": [],
   "source": [
    "x = \"Peanut Butter\"\n",
    "y = \" is\"\n",
    "z = \" my favourate.\"\n",
    "print(x + y + z)"
   ]
  }
 ],
 "metadata": {
  "kernelspec": {
   "display_name": "Python 3 (ipykernel)",
   "language": "python",
   "name": "python3"
  },
  "language_info": {
   "codemirror_mode": {
    "name": "ipython",
    "version": 3
   },
   "file_extension": ".py",
   "mimetype": "text/x-python",
   "name": "python",
   "nbconvert_exporter": "python",
   "pygments_lexer": "ipython3",
   "version": "3.9.13"
  }
 },
 "nbformat": 4,
 "nbformat_minor": 5
}
