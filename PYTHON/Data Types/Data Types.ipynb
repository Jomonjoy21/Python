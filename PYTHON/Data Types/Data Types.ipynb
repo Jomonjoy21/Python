{
 "cells": [
  {
   "cell_type": "markdown",
   "id": "540b348c",
   "metadata": {},
   "source": [
    "# Data Types "
   ]
  },
  {
   "cell_type": "code",
   "execution_count": null,
   "id": "f0f039c1",
   "metadata": {},
   "outputs": [],
   "source": [
    "type(-23 + 45)"
   ]
  },
  {
   "cell_type": "code",
   "execution_count": null,
   "id": "2dc3089d",
   "metadata": {},
   "outputs": [],
   "source": [
    "type(12 + 34.56)"
   ]
  },
  {
   "cell_type": "code",
   "execution_count": null,
   "id": "df1fd1e5",
   "metadata": {},
   "outputs": [],
   "source": [
    "type(83 + 6j) # 'j' is used as an imaginary number"
   ]
  },
  {
   "cell_type": "code",
   "execution_count": null,
   "id": "919a2366",
   "metadata": {},
   "outputs": [],
   "source": [
    "type(True)"
   ]
  },
  {
   "cell_type": "code",
   "execution_count": null,
   "id": "6c974d27",
   "metadata": {},
   "outputs": [],
   "source": [
    "type(1 > 5)"
   ]
  },
  {
   "cell_type": "code",
   "execution_count": null,
   "id": "53441770",
   "metadata": {},
   "outputs": [],
   "source": [
    "1 > 5"
   ]
  },
  {
   "cell_type": "code",
   "execution_count": null,
   "id": "01275133",
   "metadata": {},
   "outputs": [],
   "source": [
    "1 == 1"
   ]
  },
  {
   "cell_type": "code",
   "execution_count": null,
   "id": "16a7b05a",
   "metadata": {},
   "outputs": [],
   "source": [
    "'Single Quote'"
   ]
  },
  {
   "cell_type": "code",
   "execution_count": null,
   "id": "759b94b8",
   "metadata": {},
   "outputs": [],
   "source": [
    "\"Double Quote\""
   ]
  },
  {
   "cell_type": "code",
   "execution_count": null,
   "id": "1ad26567",
   "metadata": {},
   "outputs": [],
   "source": [
    "multiline = \"\"\"\n",
    "The Peanut butter vanquished \n",
    "my craving for tea time, \n",
    "upon on this diet I look away, \n",
    "it no longer exist on this day.\n",
    "\"\"\"\n",
    "print(multiline)"
   ]
  },
  {
   "cell_type": "code",
   "execution_count": null,
   "id": "d767dcd9",
   "metadata": {},
   "outputs": [],
   "source": [
    "type(multiline)"
   ]
  },
  {
   "cell_type": "markdown",
   "id": "2a28c0d8",
   "metadata": {},
   "source": [
    "**Indexing on String**"
   ]
  },
  {
   "cell_type": "code",
   "execution_count": null,
   "id": "9b37bd39",
   "metadata": {},
   "outputs": [],
   "source": [
    "a = \"Hello World!\"\n",
    "print(a)\n",
    "print(a[:5]) # :5 Means 0 to 5\n",
    "print(a[2:7])\n",
    "print(a[-3])\n",
    "print(a[6])\n",
    "print(a * 3)\n",
    "print(a + a)"
   ]
  },
  {
   "cell_type": "markdown",
   "id": "8d2332d5",
   "metadata": {},
   "source": [
    "**List**"
   ]
  },
  {
   "cell_type": "code",
   "execution_count": null,
   "id": "74d430bf",
   "metadata": {},
   "outputs": [],
   "source": [
    "[1, 2, 3] # List is also indexed like a string is indexed"
   ]
  },
  {
   "cell_type": "code",
   "execution_count": null,
   "id": "23334343",
   "metadata": {},
   "outputs": [],
   "source": [
    "# If we have to create a list and add string values we have to do it with quotes \n",
    "['Vanilla', 'Strawberry']"
   ]
  },
  {
   "cell_type": "code",
   "execution_count": null,
   "id": "ed0297b4",
   "metadata": {},
   "outputs": [],
   "source": [
    "['Vanilla', 3, ['Strawberry', 'Chocolate'], True]"
   ]
  },
  {
   "cell_type": "code",
   "execution_count": null,
   "id": "dd3c5b54",
   "metadata": {},
   "outputs": [],
   "source": [
    "# we can add, change and modify items from the list\n",
    "flavours = ['Vanilla', 'Strawberry', 'Chocolate']\n",
    "flavours.append('Pineapple') # adding new value to the list \n",
    "print(flavours)\n",
    "flavours[0] = 'Mango' # Replacing the value at index 0 with new one \n",
    "print(flavours)"
   ]
  },
  {
   "cell_type": "code",
   "execution_count": null,
   "id": "4153a5c9",
   "metadata": {},
   "outputs": [],
   "source": [
    "nested_list = ['Vanilla', 3, ['Strawberry', 'Chocolate'], True]\n",
    "print(nested_list[0])\n",
    "print(nested_list[1])\n",
    "print(nested_list[2])\n",
    "print(nested_list[2][1])"
   ]
  },
  {
   "cell_type": "markdown",
   "id": "e434ea8c",
   "metadata": {},
   "source": [
    "**Tuple**"
   ]
  },
  {
   "cell_type": "code",
   "execution_count": null,
   "id": "8569afc5",
   "metadata": {},
   "outputs": [],
   "source": [
    "# The difference between tuple and list is that tuple can't be modified when its created. It is indexed.\n",
    "tuple_scoops = (1, 2, 3, 2, 1)\n",
    "type(tuple_scoops) # Checking the datatype"
   ]
  },
  {
   "cell_type": "code",
   "execution_count": null,
   "id": "7bc0ae7a",
   "metadata": {},
   "outputs": [],
   "source": [
    "print(tuple_scoops[0])"
   ]
  },
  {
   "cell_type": "markdown",
   "id": "e43d1c00",
   "metadata": {},
   "source": [
    "**Sets**"
   ]
  },
  {
   "cell_type": "code",
   "execution_count": null,
   "id": "629c968c",
   "metadata": {},
   "outputs": [],
   "source": [
    "# Sets is somewhat similar to list and tuple but the difference is that it don't have any duplicate elements\n",
    "# The values within the Sets cannot be accessed with a index, because it doesn't have any index as it is unordered\n",
    "post_box = {1, 2, 3}\n",
    "type(post_box)"
   ]
  },
  {
   "cell_type": "code",
   "execution_count": null,
   "id": "5317684e",
   "metadata": {},
   "outputs": [],
   "source": [
    "log = {1, 2, 35, 53, 6, 7, 2, 1, 53, 79, 23, 45, 56, 1, 6, 6, 2} # It doesn't show the duplicate values but unque ones only\n",
    "print(log)"
   ]
  },
  {
   "cell_type": "code",
   "execution_count": null,
   "id": "536e960f",
   "metadata": {},
   "outputs": [],
   "source": [
    "numbers = {1, 24, 5, 3, 6, 7, 2, 11, 93, 70, 23, 45, 56, 1, 6, 6, 2}\n",
    "print(numbers)"
   ]
  },
  {
   "cell_type": "code",
   "execution_count": null,
   "id": "0e65148c",
   "metadata": {},
   "outputs": [],
   "source": [
    "print(log | numbers) # Shows the numbers in both sets removing the duplicates on the both sets"
   ]
  },
  {
   "cell_type": "code",
   "execution_count": null,
   "id": "4db1dcd2",
   "metadata": {},
   "outputs": [],
   "source": [
    "print(log & numbers) # Shows the matching ones in both sets"
   ]
  },
  {
   "cell_type": "code",
   "execution_count": null,
   "id": "3007470f",
   "metadata": {},
   "outputs": [],
   "source": [
    "print(log - numbers) # Shows the ones which doesn't match in both sets\n",
    "print(numbers - log) # Shows the ones which doesn't match in both sets"
   ]
  },
  {
   "cell_type": "code",
   "execution_count": null,
   "id": "95b96e72",
   "metadata": {},
   "outputs": [],
   "source": [
    "print(log ^ numbers) # It shows unique ones in both"
   ]
  },
  {
   "cell_type": "markdown",
   "id": "64eee0a9",
   "metadata": {},
   "source": [
    "**Dictionaries**"
   ]
  },
  {
   "cell_type": "code",
   "execution_count": null,
   "id": "79676e0a",
   "metadata": {},
   "outputs": [],
   "source": [
    "# It has a key value pair\n",
    "dict_icecream = {'name': 'Renato fernandes', 'monthly intake': 5, 'favourate': ['strawberry', 'chocolate', 'vanilla']}\n",
    "type(dict_icecream)"
   ]
  },
  {
   "cell_type": "code",
   "execution_count": null,
   "id": "13c7e340",
   "metadata": {},
   "outputs": [],
   "source": [
    "print(dict_icecream)"
   ]
  },
  {
   "cell_type": "code",
   "execution_count": null,
   "id": "c289dc89",
   "metadata": {},
   "outputs": [],
   "source": [
    "dict_icecream.values()"
   ]
  },
  {
   "cell_type": "code",
   "execution_count": null,
   "id": "01dce3bb",
   "metadata": {},
   "outputs": [],
   "source": [
    "dict_icecream.keys()"
   ]
  },
  {
   "cell_type": "code",
   "execution_count": null,
   "id": "91c70612",
   "metadata": {},
   "outputs": [],
   "source": [
    "dict_icecream.items()"
   ]
  },
  {
   "cell_type": "code",
   "execution_count": null,
   "id": "1e85e977",
   "metadata": {},
   "outputs": [],
   "source": [
    "dict_icecream['name']"
   ]
  },
  {
   "cell_type": "code",
   "execution_count": null,
   "id": "d2c23e13",
   "metadata": {},
   "outputs": [],
   "source": [
    "dict_icecream['name'] = 'Anna fernanades' # We can also update the values in the dictionaries"
   ]
  },
  {
   "cell_type": "code",
   "execution_count": null,
   "id": "567aefd4",
   "metadata": {},
   "outputs": [],
   "source": [
    "print(dict_icecream)"
   ]
  },
  {
   "cell_type": "code",
   "execution_count": null,
   "id": "06d616d3",
   "metadata": {},
   "outputs": [],
   "source": [
    "# We can update all the things in one go \n",
    "# if we update the keys it donot replace but add the new ones with old ones too.\n",
    "# If we update the values it will replace\n",
    "dict_icecream.update({'name': 'David fernanades', 'weekly intake': 3, 'favourate': ['strawberry', 'chocolate', 'vanilla', 'pineapple', 'Mango']})\n",
    "print(dict_icecream)"
   ]
  },
  {
   "cell_type": "code",
   "execution_count": null,
   "id": "afb761fe",
   "metadata": {},
   "outputs": [],
   "source": [
    "del dict_icecream['weekly intake'] # Delete \n",
    "print(dict_icecream)"
   ]
  }
 ],
 "metadata": {
  "kernelspec": {
   "display_name": "Python 3 (ipykernel)",
   "language": "python",
   "name": "python3"
  },
  "language_info": {
   "codemirror_mode": {
    "name": "ipython",
    "version": 3
   },
   "file_extension": ".py",
   "mimetype": "text/x-python",
   "name": "python",
   "nbconvert_exporter": "python",
   "pygments_lexer": "ipython3",
   "version": "3.9.13"
  }
 },
 "nbformat": 4,
 "nbformat_minor": 5
}
