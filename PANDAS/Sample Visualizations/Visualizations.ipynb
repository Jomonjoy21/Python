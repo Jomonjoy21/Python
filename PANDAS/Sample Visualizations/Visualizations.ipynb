{
 "cells": [
  {
   "cell_type": "markdown",
   "id": "e6a8f527",
   "metadata": {},
   "source": [
    "# Visualizations"
   ]
  },
  {
   "cell_type": "code",
   "execution_count": 1,
   "id": "07c2968f",
   "metadata": {},
   "outputs": [],
   "source": [
    "import pandas as pd \n",
    "import numpy as np\n",
    "import matplotlib.pyplot as plt"
   ]
  },
  {
   "cell_type": "code",
   "execution_count": null,
   "id": "5aeb31f4",
   "metadata": {},
   "outputs": [],
   "source": [
    "df_in = pd.read_csv(r\"C:\\Users\\hp\\Downloads\\Ice Cream Ratings.csv\")\n",
    "df_in = df_in.set_index('Date')\n",
    "df_in"
   ]
  },
  {
   "cell_type": "code",
   "execution_count": null,
   "id": "f89d6a39",
   "metadata": {},
   "outputs": [],
   "source": [
    "print(plt.style.available) # Gives all the styles available\n",
    "plt.style.use('fivethirtyeight')"
   ]
  },
  {
   "cell_type": "code",
   "execution_count": null,
   "id": "fd40326e",
   "metadata": {},
   "outputs": [],
   "source": [
    "df_in.plot()"
   ]
  },
  {
   "cell_type": "code",
   "execution_count": null,
   "id": "2fd5015b",
   "metadata": {},
   "outputs": [],
   "source": [
    "df_in.plot(subplots = True)"
   ]
  },
  {
   "cell_type": "code",
   "execution_count": null,
   "id": "170bbdc1",
   "metadata": {},
   "outputs": [],
   "source": [
    "df_in.plot(title = 'Ice Cream Ratings', xlabel = 'Daily Ratings', ylabel = ' Rate Scores')"
   ]
  },
  {
   "cell_type": "code",
   "execution_count": null,
   "id": "a94163eb",
   "metadata": {},
   "outputs": [],
   "source": [
    "df_in.plot(kind = 'bar', title = 'Ice Cream Ratings', xlabel = 'Daily Ratings', ylabel = ' Rate Scores')"
   ]
  },
  {
   "cell_type": "code",
   "execution_count": null,
   "id": "fc8832cb",
   "metadata": {},
   "outputs": [],
   "source": [
    "df_in.plot(kind = 'bar', stacked = True, title = 'Ice Cream Ratings', xlabel = 'Daily Ratings', ylabel = ' Rate Scores')"
   ]
  },
  {
   "cell_type": "code",
   "execution_count": null,
   "id": "ac856321",
   "metadata": {},
   "outputs": [],
   "source": [
    "df_in['Flavor Rating'].plot(kind = 'bar', stacked = True, title = 'Ice Cream Ratings', xlabel = 'Daily Ratings', ylabel = ' Rate Scores')"
   ]
  },
  {
   "cell_type": "code",
   "execution_count": null,
   "id": "5a5ac0bb",
   "metadata": {},
   "outputs": [],
   "source": [
    "df_in.plot.barh(stacked = True, title = 'Ice Cream Ratings', xlabel = 'Daily Ratings', ylabel = ' Rate Scores')"
   ]
  },
  {
   "cell_type": "code",
   "execution_count": null,
   "id": "4bc6bec3",
   "metadata": {},
   "outputs": [],
   "source": [
    "# we need to specify the x and y inorder for the scatter plot to work otherwise it will throw error\n",
    "df_in.plot.scatter(x = 'Texture Rating', y = 'Overall Rating')  "
   ]
  },
  {
   "cell_type": "code",
   "execution_count": null,
   "id": "be281332",
   "metadata": {},
   "outputs": [],
   "source": [
    "# we can filter the size and color of plot that is 's' and 'c'\n",
    "df_in.plot.scatter(x = 'Texture Rating', y = 'Overall Rating', s = 450, c = 'red')"
   ]
  },
  {
   "cell_type": "code",
   "execution_count": null,
   "id": "fe4e25b8",
   "metadata": {},
   "outputs": [],
   "source": [
    "df_in.plot.hist()\n",
    "# Histogram is really good for showing the distribution of the variables"
   ]
  },
  {
   "cell_type": "code",
   "execution_count": null,
   "id": "97705a35",
   "metadata": {},
   "outputs": [],
   "source": [
    "df_in.plot.hist(bins = 100)"
   ]
  },
  {
   "cell_type": "code",
   "execution_count": null,
   "id": "4646eae6",
   "metadata": {},
   "outputs": [],
   "source": [
    "df_in.boxplot()"
   ]
  },
  {
   "cell_type": "code",
   "execution_count": null,
   "id": "541b6354",
   "metadata": {},
   "outputs": [],
   "source": [
    "df_in.plot.area(figsize = (7, 5))\n",
    "# Figsize is used to filter the size of the result "
   ]
  },
  {
   "cell_type": "code",
   "execution_count": null,
   "id": "7d689103",
   "metadata": {},
   "outputs": [],
   "source": [
    "df_in.plot.pie(y = 'Flavor Rating')"
   ]
  }
 ],
 "metadata": {
  "kernelspec": {
   "display_name": "Python 3 (ipykernel)",
   "language": "python",
   "name": "python3"
  },
  "language_info": {
   "codemirror_mode": {
    "name": "ipython",
    "version": 3
   },
   "file_extension": ".py",
   "mimetype": "text/x-python",
   "name": "python",
   "nbconvert_exporter": "python",
   "pygments_lexer": "ipython3",
   "version": "3.9.13"
  }
 },
 "nbformat": 4,
 "nbformat_minor": 5
}
