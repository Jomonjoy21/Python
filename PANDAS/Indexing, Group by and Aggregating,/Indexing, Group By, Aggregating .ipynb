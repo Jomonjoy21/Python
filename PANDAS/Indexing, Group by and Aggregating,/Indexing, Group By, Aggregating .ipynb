{
 "cells": [
  {
   "cell_type": "markdown",
   "id": "26fdebcf",
   "metadata": {},
   "source": [
    "# Indexing"
   ]
  },
  {
   "cell_type": "code",
   "execution_count": null,
   "id": "69046135",
   "metadata": {},
   "outputs": [],
   "source": [
    "import pandas as pd\n",
    "df_world = pd.read_csv(r\"C:\\Users\\hp\\Downloads\\world_population.csv\", index_col = \"Country/Territory\")\n",
    "df_world"
   ]
  },
  {
   "cell_type": "code",
   "execution_count": null,
   "id": "012cacdd",
   "metadata": {},
   "outputs": [],
   "source": [
    "df_world.reset_index(inplace=True)\n",
    "df_world"
   ]
  },
  {
   "cell_type": "code",
   "execution_count": null,
   "id": "a27bd031",
   "metadata": {},
   "outputs": [],
   "source": [
    "# Eventhough we set index as 'Country/Territory' it is no saved, so for it o be saved we need to use 'inplace = True' \n",
    "df_world.set_index(\"Country/Territory\")\n",
    "df_world"
   ]
  },
  {
   "cell_type": "code",
   "execution_count": null,
   "id": "9aad8588",
   "metadata": {},
   "outputs": [],
   "source": [
    "df_world.set_index(\"Country/Territory\", inplace = True)\n",
    "df_world"
   ]
  },
  {
   "cell_type": "code",
   "execution_count": null,
   "id": "ae920859",
   "metadata": {},
   "outputs": [],
   "source": [
    "df_world.reset_index(inplace = True)\n",
    "df_world"
   ]
  },
  {
   "cell_type": "code",
   "execution_count": null,
   "id": "f57d2ae7",
   "metadata": {},
   "outputs": [],
   "source": [
    "df_world.set_index(['Continent','Country/Territory'],inplace = True)\n",
    "df_world # In this we can see that Continent is repeating itself in many places, so we do sort to nake it visually good"
   ]
  },
  {
   "cell_type": "code",
   "execution_count": null,
   "id": "014cbac1",
   "metadata": {},
   "outputs": [],
   "source": [
    "df_world.sort_index(ascending =[True, True])\n",
    "pd.set_option('display.max.rows', 234)\n",
    "df_world"
   ]
  },
  {
   "cell_type": "markdown",
   "id": "613b53f7",
   "metadata": {},
   "source": [
    "# Group by and Aggregating "
   ]
  },
  {
   "cell_type": "code",
   "execution_count": null,
   "id": "1021a3f4",
   "metadata": {},
   "outputs": [],
   "source": [
    "import pandas as pd\n",
    "df_fla = pd.read_csv(r\"G:\\EDGE HILL UNIVERSITY\\PORTFOLIO\\DATA BOOTCAMP (Alex the Analyst)\\PYTHON\\DATASET\\Flavors.csv\")\n",
    "df_fla"
   ]
  },
  {
   "cell_type": "code",
   "execution_count": null,
   "id": "ff227f13",
   "metadata": {},
   "outputs": [],
   "source": [
    "group = df_fla.groupby('Base Flavor') \n",
    "# After creating 'df_fla.groupby('Base Flavor')''  run this and save it in a variable and run that variable then add aggregate function"
   ]
  },
  {
   "cell_type": "code",
   "execution_count": null,
   "id": "5d0f6e5e",
   "metadata": {},
   "outputs": [],
   "source": [
    "group.mean()\n",
    "# df_fla.groupby('Base Flavor').mean()"
   ]
  },
  {
   "cell_type": "code",
   "execution_count": null,
   "id": "c0f891bd",
   "metadata": {},
   "outputs": [],
   "source": [
    "df_fla.groupby('Base Flavor').count()"
   ]
  },
  {
   "cell_type": "code",
   "execution_count": null,
   "id": "8fa7f58f",
   "metadata": {},
   "outputs": [],
   "source": [
    "df_fla.groupby('Base Flavor').min()"
   ]
  },
  {
   "cell_type": "code",
   "execution_count": null,
   "id": "c5982732",
   "metadata": {},
   "outputs": [],
   "source": [
    "df_fla.groupby('Base Flavor').max()"
   ]
  },
  {
   "cell_type": "code",
   "execution_count": null,
   "id": "961ff968",
   "metadata": {},
   "outputs": [],
   "source": [
    "df_fla.groupby('Base Flavor').sum()"
   ]
  },
  {
   "cell_type": "code",
   "execution_count": null,
   "id": "2d2c0ace",
   "metadata": {},
   "outputs": [],
   "source": [
    "df_fla.groupby('Base Flavor').agg({'Flavor Rating': ['mean', 'max', 'count', 'sum']}) \n",
    "# Only on flavour rating "
   ]
  },
  {
   "cell_type": "code",
   "execution_count": null,
   "id": "6d73cdd9",
   "metadata": {},
   "outputs": [],
   "source": [
    "df_fla.groupby('Base Flavor').agg({'Flavor Rating': ['mean', 'max', 'count', 'sum'], 'Texture Rating': ['mean', 'max', 'count', 'sum']}) "
   ]
  },
  {
   "cell_type": "code",
   "execution_count": null,
   "id": "bcc32750",
   "metadata": {},
   "outputs": [],
   "source": [
    "# Grouping based on multiple columns\n",
    "df_fla.groupby(['Base Flavor', 'Liked']).mean()"
   ]
  },
  {
   "cell_type": "code",
   "execution_count": null,
   "id": "ef5efcf0",
   "metadata": {},
   "outputs": [],
   "source": [
    "df_fla.groupby(['Base Flavor', 'Liked']).agg({'Flavor Rating': ['mean', 'max', 'count', 'sum']})"
   ]
  },
  {
   "cell_type": "code",
   "execution_count": null,
   "id": "c16936f1",
   "metadata": {},
   "outputs": [],
   "source": [
    "df_fla.groupby('Base Flavor').describe()"
   ]
  }
 ],
 "metadata": {
  "kernelspec": {
   "display_name": "Python 3 (ipykernel)",
   "language": "python",
   "name": "python3"
  },
  "language_info": {
   "codemirror_mode": {
    "name": "ipython",
    "version": 3
   },
   "file_extension": ".py",
   "mimetype": "text/x-python",
   "name": "python",
   "nbconvert_exporter": "python",
   "pygments_lexer": "ipython3",
   "version": "3.9.13"
  }
 },
 "nbformat": 4,
 "nbformat_minor": 5
}
