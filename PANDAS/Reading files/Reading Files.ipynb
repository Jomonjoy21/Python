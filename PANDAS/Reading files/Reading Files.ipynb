{
 "cells": [
  {
   "cell_type": "markdown",
   "id": "b58b410a",
   "metadata": {},
   "source": [
    "# PANDAS"
   ]
  },
  {
   "cell_type": "markdown",
   "id": "6c8eb9b2",
   "metadata": {},
   "source": [
    "# Reading Files"
   ]
  },
  {
   "cell_type": "code",
   "execution_count": null,
   "id": "3141cfc5",
   "metadata": {},
   "outputs": [],
   "source": [
    "import pandas as pd\n",
    "df_csv = pd.read_csv(r\"C:\\Users\\hp\\Downloads\\countries of the world.csv\")\n",
    "# If we didn't put 'r' otherwise it will read the backslash and the colon\n",
    "df_csv\n",
    "# go between the paranthesis and hit the shift + tab and then click the plus sign"
   ]
  },
  {
   "cell_type": "code",
   "execution_count": null,
   "id": "8d7c0224",
   "metadata": {},
   "outputs": [],
   "source": [
    "# In the above one we can see only the first five and last five, to change it and want to see all then\n",
    "import pandas as pd\n",
    "df_csv = pd.read_csv(r\"C:\\Users\\hp\\Downloads\\countries of the world.csv\")\n",
    "pd.set_option('display.max.rows', 227)\n",
    "df_csv"
   ]
  },
  {
   "cell_type": "code",
   "execution_count": null,
   "id": "94ec4402",
   "metadata": {},
   "outputs": [],
   "source": [
    "import pandas as pd\n",
    "# for text also it will work but would be unorganised, so we have to use 'sep = \\t'\n",
    "df_text = pd.read_csv(r\"C:\\Users\\hp\\Downloads\\countries of the world.txt\", sep = '\\t')\n",
    "# Otherwise we can use 'read_table' if not want to use \" sep = '\\t' \"\n",
    "df_text = pd.read_table(r\"C:\\Users\\hp\\Downloads\\countries of the world.txt\")\n",
    "\n",
    "df_json = pd.read_json(r\"C:\\Users\\hp\\Downloads\\countries of the world.json\")\n",
    "\n",
    "df_excel = pd.read_excel(r\"C:\\Users\\hp\\Downloads\\countries of the world.xlsx\")\n",
    "\n",
    "# You can specify a 'sheet' if you want\n",
    "df_json = pd.read_json(r\"C:\\Users\\hp\\Downloads\\countries of the world.json\", sheet_name = 'Sheet1')"
   ]
  },
  {
   "cell_type": "code",
   "execution_count": null,
   "id": "a917b04c",
   "metadata": {},
   "outputs": [],
   "source": [
    "df_csv.info()"
   ]
  },
  {
   "cell_type": "code",
   "execution_count": null,
   "id": "a854f573",
   "metadata": {},
   "outputs": [],
   "source": [
    "df_csv.shape"
   ]
  },
  {
   "cell_type": "code",
   "execution_count": null,
   "id": "2bc40cf6",
   "metadata": {},
   "outputs": [],
   "source": [
    "df_csv.head(11)"
   ]
  },
  {
   "cell_type": "code",
   "execution_count": null,
   "id": "82121d59",
   "metadata": {},
   "outputs": [],
   "source": [
    "df_csv.tail(10)"
   ]
  },
  {
   "cell_type": "code",
   "execution_count": null,
   "id": "233e23ca",
   "metadata": {},
   "outputs": [],
   "source": [
    "df_csv['Country']"
   ]
  },
  {
   "cell_type": "code",
   "execution_count": null,
   "id": "1b730638",
   "metadata": {},
   "outputs": [],
   "source": [
    "df_csv.loc[15]"
   ]
  },
  {
   "cell_type": "code",
   "execution_count": null,
   "id": "fc59c4b5",
   "metadata": {},
   "outputs": [],
   "source": [
    "df_csv.iloc[15]"
   ]
  },
  {
   "cell_type": "markdown",
   "id": "94215b85",
   "metadata": {},
   "source": [
    "**Header example**"
   ]
  },
  {
   "cell_type": "code",
   "execution_count": null,
   "id": "4bb4aa45",
   "metadata": {},
   "outputs": [],
   "source": [
    "# pd.read_csv(r\"C:\\Users\\hp\\Downloads\\countries of the world.csv\", header = None, names = ['Country', 'Region']) "
   ]
  }
 ],
 "metadata": {
  "kernelspec": {
   "display_name": "Python 3 (ipykernel)",
   "language": "python",
   "name": "python3"
  },
  "language_info": {
   "codemirror_mode": {
    "name": "ipython",
    "version": 3
   },
   "file_extension": ".py",
   "mimetype": "text/x-python",
   "name": "python",
   "nbconvert_exporter": "python",
   "pygments_lexer": "ipython3",
   "version": "3.9.13"
  }
 },
 "nbformat": 4,
 "nbformat_minor": 5
}
