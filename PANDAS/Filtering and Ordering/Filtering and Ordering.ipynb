{
 "cells": [
  {
   "cell_type": "markdown",
   "id": "fe0f5884",
   "metadata": {},
   "source": [
    "# Filtering  and Ordering "
   ]
  },
  {
   "cell_type": "code",
   "execution_count": null,
   "id": "2d2fc6e4",
   "metadata": {},
   "outputs": [],
   "source": [
    "import pandas as pd\n",
    "df2 = pd.read_csv(r\"C:\\Users\\hp\\Downloads\\world_population.csv\")\n",
    "df2"
   ]
  },
  {
   "cell_type": "code",
   "execution_count": null,
   "id": "6803d721",
   "metadata": {},
   "outputs": [],
   "source": [
    "df2[df2['Rank'] <= 10]"
   ]
  },
  {
   "cell_type": "code",
   "execution_count": null,
   "id": "90ad867f",
   "metadata": {},
   "outputs": [],
   "source": [
    "specific_countries = ['Bangladesh', 'Brazil']\n",
    "df2[df2['Country/Territory'].isin(specific_countries)]"
   ]
  },
  {
   "cell_type": "code",
   "execution_count": null,
   "id": "43dcc486",
   "metadata": {},
   "outputs": [],
   "source": [
    "df2[df2['Country/Territory'].str.contains('United')]"
   ]
  },
  {
   "cell_type": "code",
   "execution_count": null,
   "id": "02b42816",
   "metadata": {},
   "outputs": [],
   "source": [
    "df3 = df2.set_index('Country/Territory')\n",
    "df3"
   ]
  },
  {
   "cell_type": "code",
   "execution_count": null,
   "id": "46065443",
   "metadata": {},
   "outputs": [],
   "source": [
    "df3.filter(items = ['Continent', 'CCA3'], axis = 1) # Axis is the x and y the columns and rows"
   ]
  },
  {
   "cell_type": "code",
   "execution_count": null,
   "id": "314db1a3",
   "metadata": {},
   "outputs": [],
   "source": [
    "df3.filter(items = ['Yemen'], axis = 0)"
   ]
  },
  {
   "cell_type": "code",
   "execution_count": null,
   "id": "02619f80",
   "metadata": {},
   "outputs": [],
   "source": [
    "df3.filter(like = 'United', axis = 0)"
   ]
  },
  {
   "cell_type": "code",
   "execution_count": null,
   "id": "0b28a573",
   "metadata": {},
   "outputs": [],
   "source": [
    "df3.loc['United States']"
   ]
  },
  {
   "cell_type": "code",
   "execution_count": null,
   "id": "b5464067",
   "metadata": {},
   "outputs": [],
   "source": [
    "df3.iloc[221]"
   ]
  },
  {
   "cell_type": "code",
   "execution_count": null,
   "id": "7aaf6064",
   "metadata": {},
   "outputs": [],
   "source": [
    "df2[df2['Rank'] <= 234].sort_values(by='Rank')"
   ]
  },
  {
   "cell_type": "code",
   "execution_count": null,
   "id": "73c1e772",
   "metadata": {},
   "outputs": [],
   "source": [
    "# If you want it be in ascending or descending order then make the last 'Rank' as list\n",
    "df2[df2['Rank'] <= 234].sort_values(by=['Rank'], ascending = False)"
   ]
  },
  {
   "cell_type": "code",
   "execution_count": null,
   "id": "c709e010",
   "metadata": {},
   "outputs": [],
   "source": [
    "# Here it sorts two items \n",
    "df2[df2['Rank'] <= 234].sort_values(by=['Continent', 'Country/Territory'], ascending = False)"
   ]
  },
  {
   "cell_type": "code",
   "execution_count": null,
   "id": "4e6cbc2d",
   "metadata": {},
   "outputs": [],
   "source": [
    "# Here it sorts two items \n",
    "df2[df2['Rank'] <= 234].sort_values(by=['Continent', 'Country/Territory'], ascending = [False, True])"
   ]
  }
 ],
 "metadata": {
  "kernelspec": {
   "display_name": "Python 3 (ipykernel)",
   "language": "python",
   "name": "python3"
  },
  "language_info": {
   "codemirror_mode": {
    "name": "ipython",
    "version": 3
   },
   "file_extension": ".py",
   "mimetype": "text/x-python",
   "name": "python",
   "nbconvert_exporter": "python",
   "pygments_lexer": "ipython3",
   "version": "3.9.13"
  }
 },
 "nbformat": 4,
 "nbformat_minor": 5
}
