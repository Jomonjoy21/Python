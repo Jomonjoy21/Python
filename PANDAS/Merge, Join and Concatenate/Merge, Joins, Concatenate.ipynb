{
 "cells": [
  {
   "cell_type": "markdown",
   "id": "f3c036fa",
   "metadata": {},
   "source": [
    "# Merge, Join and concatenate"
   ]
  },
  {
   "cell_type": "code",
   "execution_count": null,
   "id": "78a5b3bf",
   "metadata": {},
   "outputs": [],
   "source": [
    "import pandas as pd\n",
    "df_lo1 = pd.read_csv(r\"C:\\Users\\hp\\Downloads\\LOTR.csv\")\n",
    "df_lo1"
   ]
  },
  {
   "cell_type": "code",
   "execution_count": null,
   "id": "0c00a6fb",
   "metadata": {},
   "outputs": [],
   "source": [
    "df_lo2 = pd.read_csv(r\"C:\\Users\\hp\\Downloads\\LOTR 2.csv\")\n",
    "df_lo2"
   ]
  },
  {
   "cell_type": "code",
   "execution_count": null,
   "id": "ed81da7d",
   "metadata": {},
   "outputs": [],
   "source": [
    "df_lo1.merge(df_lo2) # Default is innerjoin"
   ]
  },
  {
   "cell_type": "code",
   "execution_count": null,
   "id": "0c9820b7",
   "metadata": {},
   "outputs": [],
   "source": [
    "df_lo1.merge(df_lo2, how = 'inner', on = 'FellowshipID')"
   ]
  },
  {
   "cell_type": "code",
   "execution_count": null,
   "id": "355ea8e0",
   "metadata": {},
   "outputs": [],
   "source": [
    "df_lo1.merge(df_lo2, how = 'inner', on = ['FellowshipID', 'FirstName'])"
   ]
  },
  {
   "cell_type": "code",
   "execution_count": null,
   "id": "8a179e8b",
   "metadata": {},
   "outputs": [],
   "source": [
    "df_lo1.merge(df_lo2, how = 'outer')"
   ]
  },
  {
   "cell_type": "code",
   "execution_count": null,
   "id": "0af8b06a",
   "metadata": {},
   "outputs": [],
   "source": [
    "df_lo1.merge(df_lo2, how = 'left')"
   ]
  },
  {
   "cell_type": "code",
   "execution_count": null,
   "id": "73952815",
   "metadata": {},
   "outputs": [],
   "source": [
    "df_lo1.merge(df_lo2, how = 'right')"
   ]
  },
  {
   "cell_type": "code",
   "execution_count": null,
   "id": "40d99c51",
   "metadata": {},
   "outputs": [],
   "source": [
    "df_lo1.merge(df_lo2, how = 'cross') # It takes the first value of the first table and compare it with everyone in the second table"
   ]
  },
  {
   "cell_type": "markdown",
   "id": "d843a704",
   "metadata": {},
   "source": [
    "**Joins**"
   ]
  },
  {
   "cell_type": "code",
   "execution_count": null,
   "id": "c04bf1cb",
   "metadata": {},
   "outputs": [],
   "source": [
    "df_lo1.join(df_lo2, how = 'outer', on = 'FellowshipID', lsuffix = '_Left', rsuffix = '_Right')"
   ]
  },
  {
   "cell_type": "code",
   "execution_count": null,
   "id": "5105f64f",
   "metadata": {},
   "outputs": [],
   "source": [
    "df_lo3 = df_lo1.set_index('FellowshipID').join(df_lo2.set_index('FellowshipID'), lsuffix = '_Left', rsuffix = '_Right')\n",
    "df_lo3"
   ]
  },
  {
   "cell_type": "code",
   "execution_count": null,
   "id": "b57d5251",
   "metadata": {},
   "outputs": [],
   "source": [
    "df_lo3 = df_lo1.set_index('FellowshipID').join(df_lo2.set_index('FellowshipID'), lsuffix = '_Left', rsuffix = '_Right', how = 'outer')\n",
    "df_lo3"
   ]
  },
  {
   "cell_type": "markdown",
   "id": "9b1c1c66",
   "metadata": {},
   "source": [
    "**Concatenate**"
   ]
  },
  {
   "cell_type": "code",
   "execution_count": null,
   "id": "7efb4194",
   "metadata": {},
   "outputs": [],
   "source": [
    "pd.concat([df_lo1, df_lo2])"
   ]
  },
  {
   "cell_type": "code",
   "execution_count": null,
   "id": "62d02eda",
   "metadata": {},
   "outputs": [],
   "source": [
    "# Doing joins in the concat function\n",
    "pd.concat([df_lo1, df_lo2], join = 'inner')"
   ]
  },
  {
   "cell_type": "code",
   "execution_count": null,
   "id": "4fa94a60",
   "metadata": {},
   "outputs": [],
   "source": [
    "pd.concat([df_lo1, df_lo2], join = 'inner', axis = 1)"
   ]
  },
  {
   "cell_type": "markdown",
   "id": "328e1908",
   "metadata": {},
   "source": [
    "**Append**"
   ]
  },
  {
   "cell_type": "code",
   "execution_count": null,
   "id": "64383920",
   "metadata": {},
   "outputs": [],
   "source": [
    "# df_lo1.append(df_lo2)"
   ]
  }
 ],
 "metadata": {
  "kernelspec": {
   "display_name": "Python 3 (ipykernel)",
   "language": "python",
   "name": "python3"
  },
  "language_info": {
   "codemirror_mode": {
    "name": "ipython",
    "version": 3
   },
   "file_extension": ".py",
   "mimetype": "text/x-python",
   "name": "python",
   "nbconvert_exporter": "python",
   "pygments_lexer": "ipython3",
   "version": "3.9.13"
  }
 },
 "nbformat": 4,
 "nbformat_minor": 5
}
