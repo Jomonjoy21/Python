{
 "cells": [
  {
   "cell_type": "markdown",
   "id": "d49968c5",
   "metadata": {},
   "source": [
    "# Automating Crypto Website using API"
   ]
  },
  {
   "cell_type": "code",
   "execution_count": null,
   "id": "b61eaf19",
   "metadata": {},
   "outputs": [],
   "source": [
    "from requests import Request, Session\n",
    "from requests.exceptions import ConnectionError, Timeout, TooManyRedirects\n",
    "import json\n",
    "\n",
    "url = 'https://pro-api.coinmarketcap.com/v1/cryptocurrency/listings/latest' \n",
    "#Original Sandbox Environment: 'https://sandbox-api.coinmarketcap.com/v1/cryptocurrency/listings/latest'\n",
    "parameters = {'start':'1', 'limit':'15', 'convert':'USD'}\n",
    "headers = {'Accepts': 'application/json', 'X-CMC_PRO_API_KEY': '0ad53085-1cb2-4eb8-ad9e-3ffbd7e56509'}\n",
    "\n",
    "session = Session()\n",
    "session.headers.update(headers)\n",
    "\n",
    "try:\n",
    "  response = session.get(url, params=parameters)\n",
    "  data = json.loads(response.text)\n",
    "  #print(data)\n",
    "except (ConnectionError, Timeout, TooManyRedirects) as e:\n",
    "  print(e)"
   ]
  },
  {
   "cell_type": "code",
   "execution_count": null,
   "id": "26eee7e5",
   "metadata": {},
   "outputs": [],
   "source": [
    "type(data)"
   ]
  },
  {
   "cell_type": "code",
   "execution_count": null,
   "id": "0fb07e53",
   "metadata": {},
   "outputs": [],
   "source": [
    "import pandas as pd\n",
    "#This allows you to see all the columns, not just like 15\n",
    "pd.set_option('display.max_columns', None)\n",
    "pd.set_option('display.max_rows', None)"
   ]
  },
  {
   "cell_type": "code",
   "execution_count": null,
   "id": "e2f07c43",
   "metadata": {},
   "outputs": [],
   "source": [
    "df_ap = pd.json_normalize(data['data'])\n",
    "df_ap['timestamp'] = pd.to_datetime('now')\n",
    "df_ap"
   ]
  },
  {
   "cell_type": "markdown",
   "id": "692bb37f",
   "metadata": {},
   "source": [
    "**Automating**"
   ]
  },
  {
   "cell_type": "code",
   "execution_count": null,
   "id": "75be2949",
   "metadata": {},
   "outputs": [],
   "source": [
    "from requests import Request, Session\n",
    "from requests.exceptions import ConnectionError, Timeout, TooManyRedirects\n",
    "import json\n",
    "def api_runner():\n",
    "    global df_ap # declaring 'df_ap' as global for not to end up in error\n",
    "    url = 'https://pro-api.coinmarketcap.com/v1/cryptocurrency/listings/latest' \n",
    "    #Original Sandbox Environment: 'https://sandbox-api.coinmarketcap.com/v1/cryptocurrency/listings/latest'\n",
    "    parameters = {'start':'1', 'limit':'15', 'convert':'USD'}\n",
    "    headers = {'Accepts': 'application/json', 'X-CMC_PRO_API_KEY': '0ad53085-1cb2-4eb8-ad9e-3ffbd7e56509',}\n",
    "\n",
    "    session = Session()\n",
    "    session.headers.update(headers)\n",
    "\n",
    "    try:\n",
    "        response = session.get(url, params=parameters)\n",
    "        data = json.loads(response.text)\n",
    "        #print(data)\n",
    "    except (ConnectionError, Timeout, TooManyRedirects) as e:\n",
    "        print(e)\n",
    "        \n",
    "        \n",
    "    df_ap2 = pd.json_normalize(data['data'])\n",
    "    df_ap2['timestamp'] = pd.to_datetime('now')\n",
    "    #df_ap = df_ap.append(df_ap2)\n",
    "    df_ap = pd.concat([df_ap, df_ap2])"
   ]
  },
  {
   "cell_type": "code",
   "execution_count": null,
   "id": "d0323175",
   "metadata": {},
   "outputs": [],
   "source": [
    "import os\n",
    "from time import time \n",
    "from time import sleep\n",
    "for i in range(333): # it runs 333 times a day\n",
    "    api_runner()\n",
    "    print('API Runner Completed')\n",
    "    sleep(60) # sleep for 1 minute \n",
    "exit()    "
   ]
  },
  {
   "cell_type": "code",
   "execution_count": null,
   "id": "6d7142a7",
   "metadata": {},
   "outputs": [],
   "source": [
    "df_ap"
   ]
  },
  {
   "cell_type": "markdown",
   "id": "79da4fc0",
   "metadata": {},
   "source": [
    "**Saving to Excel**"
   ]
  },
  {
   "cell_type": "code",
   "execution_count": null,
   "id": "402e389a",
   "metadata": {},
   "outputs": [],
   "source": [
    "from requests import Request, Session\n",
    "from requests.exceptions import ConnectionError, Timeout, TooManyRedirects\n",
    "import json\n",
    "import pandas as pd \n",
    "def api_runner():\n",
    "    global df_ap # declaring 'df_ap' as global for not to end up in error\n",
    "    url = 'https://pro-api.coinmarketcap.com/v1/cryptocurrency/listings/latest' \n",
    "    #Original Sandbox Environment: 'https://sandbox-api.coinmarketcap.com/v1/cryptocurrency/listings/latest'\n",
    "    parameters = {'start':'1', 'limit':'15', 'convert':'USD'}\n",
    "    headers = {'Accepts': 'application/json', 'X-CMC_PRO_API_KEY': '0ad53085-1cb2-4eb8-ad9e-3ffbd7e56509',}\n",
    "\n",
    "    session = Session()\n",
    "    session.headers.update(headers)\n",
    "\n",
    "    try:\n",
    "        response = session.get(url, params=parameters)\n",
    "        data = json.loads(response.text)\n",
    "        #print(data)\n",
    "    except (ConnectionError, Timeout, TooManyRedirects) as e:\n",
    "        print(e)\n",
    "        \n",
    "    # In order to prevent redundancy in the output, need to keep it as the original df_ap     \n",
    "    df_ap3 = pd.json_normalize(data['data'])\n",
    "    df_ap3['timestamp'] = pd.to_datetime('now')\n",
    "    df_ap\n",
    "    \n",
    "    if not os.path.isfile(r'C:\\Users\\hp\\OneDrive\\Documents\\Python Tutorials\\Csv\\API.csv'):\n",
    "        df_ap.to_csv(r'C:\\Users\\hp\\OneDrive\\Documents\\Python Tutorials\\Csv\\API.csv', header = 'column_names')\n",
    "    else:\n",
    "        df_ap.to_csv(r'C:\\Users\\hp\\OneDrive\\Documents\\Python Tutorials\\Csv\\API.csv', mode = 'a', header = False) # 'a' means append and we don't want header to repeat after the limit, So 'False'"
   ]
  },
  {
   "cell_type": "code",
   "execution_count": null,
   "id": "5e9a5707",
   "metadata": {},
   "outputs": [],
   "source": [
    "import os\n",
    "from time import time \n",
    "from time import sleep\n",
    "for i in range(333): # it runs 333 times a day\n",
    "    api_runner()\n",
    "    print('API Runner Completed')\n",
    "    sleep(60) # sleep for 1 minute \n",
    "exit()"
   ]
  },
  {
   "cell_type": "code",
   "execution_count": null,
   "id": "08060833",
   "metadata": {},
   "outputs": [],
   "source": [
    "# Reading the csv file to python\n",
    "df_ap4 = pd.read_csv(r'C:\\Users\\hp\\OneDrive\\Documents\\Python Tutorials\\Csv\\API.csv')\n",
    "df_ap4"
   ]
  },
  {
   "cell_type": "code",
   "execution_count": null,
   "id": "afbc0d82",
   "metadata": {},
   "outputs": [],
   "source": [
    "df_ap # printing right here"
   ]
  },
  {
   "cell_type": "code",
   "execution_count": null,
   "id": "eb52131b",
   "metadata": {},
   "outputs": [],
   "source": [
    "pd.set_option('display.float_format', lambda x: '%5f' % x)\n",
    "df_ap"
   ]
  },
  {
   "cell_type": "code",
   "execution_count": null,
   "id": "f7078d66",
   "metadata": {},
   "outputs": [],
   "source": [
    "df_ap5 = df_ap.groupby(\"name\", sort = False)[df_ap.columns[20:26]].mean()\n",
    "df_ap5\n",
    "#df_ap5 = df_ap.groupby('name', sort = False)[['quote.USD.percent_change_1h', 'quote.USD.percent_change_24h', 'quote.USD.percent_change_7d', 'quote.USD.percent_change_30d', 'quote.USD.percent_change_60d', 'quote.USD.percent_change_90d']].mean()"
   ]
  },
  {
   "cell_type": "code",
   "execution_count": null,
   "id": "a33f1378",
   "metadata": {},
   "outputs": [],
   "source": [
    "df_ap7 = df_ap5.stack() \n",
    "df_ap7"
   ]
  },
  {
   "cell_type": "code",
   "execution_count": null,
   "id": "d9fa1ab0",
   "metadata": {},
   "outputs": [],
   "source": [
    "type(df_ap7)"
   ]
  },
  {
   "cell_type": "code",
   "execution_count": null,
   "id": "f23747f7",
   "metadata": {},
   "outputs": [],
   "source": [
    "df_ap8 = df_ap7.to_frame(name = 'values')\n",
    "df_ap8"
   ]
  },
  {
   "cell_type": "markdown",
   "id": "e5759583",
   "metadata": {},
   "source": [
    "**Creating the index**"
   ]
  },
  {
   "cell_type": "code",
   "execution_count": null,
   "id": "dac22d63",
   "metadata": {},
   "outputs": [],
   "source": [
    "# Creating the index \n",
    "df_ap8.count()"
   ]
  },
  {
   "cell_type": "code",
   "execution_count": null,
   "id": "9ed5909b",
   "metadata": {},
   "outputs": [],
   "source": [
    "#index = pd.Index(range(90))\n",
    "#df_ap9 = df_ap8.set_index(index)\n",
    "#df_ap9"
   ]
  },
  {
   "cell_type": "code",
   "execution_count": null,
   "id": "c3e7bb34",
   "metadata": {},
   "outputs": [],
   "source": [
    "index = pd.Index(range(90))\n",
    "df_ap9 = df_ap8.reset_index()\n",
    "df_ap9"
   ]
  },
  {
   "cell_type": "code",
   "execution_count": null,
   "id": "a7799a8d",
   "metadata": {},
   "outputs": [],
   "source": [
    "df_ap10 = df_ap9.rename(columns = {'name': 'Crytocurrency', 'level_1': 'USD_percent_change'})\n",
    "df_ap10"
   ]
  },
  {
   "cell_type": "markdown",
   "id": "dda37b43",
   "metadata": {},
   "source": [
    "**Renaming**"
   ]
  },
  {
   "cell_type": "code",
   "execution_count": null,
   "id": "a3c2ff9a",
   "metadata": {},
   "outputs": [],
   "source": [
    "df_ap10['USD_percent_change'] = df_ap10['USD_percent_change'].replace(['quote.USD.percent_change_1h', 'quote.USD.percent_change_24h', 'quote.USD.percent_change_7d', 'quote.USD.percent_change_30d', 'quote.USD.percent_change_60d', 'quote.USD.percent_change_90d'], ['1h', '24h', '7d', '30d', '60d', '90d'])\n",
    "df_ap10"
   ]
  },
  {
   "cell_type": "code",
   "execution_count": null,
   "id": "95741471",
   "metadata": {},
   "outputs": [],
   "source": [
    "import seaborn as sns\n",
    "import matplotlib.pyplot as plt\n",
    "sns.catplot(x ='USD_percent_change', y = 'values', hue = 'Crytocurrency', data = df_ap10, kind = 'point')"
   ]
  },
  {
   "cell_type": "code",
   "execution_count": null,
   "id": "0abec11d",
   "metadata": {},
   "outputs": [],
   "source": [
    "df_ap11 = df_ap[['name', 'quote.USD.price', 'timestamp']]\n",
    "df_ap11"
   ]
  },
  {
   "cell_type": "code",
   "execution_count": null,
   "id": "2f69e512",
   "metadata": {},
   "outputs": [],
   "source": [
    "pip install --upgrade seaborn pandas"
   ]
  },
  {
   "cell_type": "code",
   "execution_count": null,
   "id": "9a63702c",
   "metadata": {},
   "outputs": [],
   "source": [
    "import pandas as pd\n",
    "import seaborn as sns\n",
    "import matplotlib.pyplot as plt\n",
    "#with pd.option_context('mode.use_inf_as_null', True):\n",
    "sns.lineplot(x = 'timestamp', y = 'quote.USD.price', data = df_ap11)"
   ]
  }
 ],
 "metadata": {
  "kernelspec": {
   "display_name": "Python 3 (ipykernel)",
   "language": "python",
   "name": "python3"
  },
  "language_info": {
   "codemirror_mode": {
    "name": "ipython",
    "version": 3
   },
   "file_extension": ".py",
   "mimetype": "text/x-python",
   "name": "python",
   "nbconvert_exporter": "python",
   "pygments_lexer": "ipython3",
   "version": "3.9.13"
  }
 },
 "nbformat": 4,
 "nbformat_minor": 5
}
