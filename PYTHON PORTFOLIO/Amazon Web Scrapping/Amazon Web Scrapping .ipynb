{
 "cells": [
  {
   "cell_type": "code",
   "execution_count": null,
   "id": "570476ac",
   "metadata": {},
   "outputs": [],
   "source": [
    "# Import necessary libraries\n",
    "from bs4 import BeautifulSoup\n",
    "import requests\n",
    "import smtplib # This is used to send email to yourself\n",
    "import time\n",
    "import datetime"
   ]
  },
  {
   "cell_type": "code",
   "execution_count": null,
   "id": "4b1919d5",
   "metadata": {},
   "outputs": [],
   "source": [
    "# Connect to website\n",
    "url = 'https://www.amazon.co.uk/Got-Data-MIS-Business-Analyst/dp/B09F319PK2/ref=sr_1_10?crid=2O4V7C3JRD3H0&keywords=data%2Banalyst%2Btshirt&qid=1700572020&sprefix=%2Caps%2C118&sr=8-10'\n",
    "headers = {\"User-Agent\": \"Mozilla/5.0 (Windows NT 10.0; Win64; x64) AppleWebKit/537.36 (KHTML, like Gecko) Chrome/119.0.0.0 Safari/537.36\", \"Accept-Encoding\": \"gzip, deflate\", \"Accept\": \"text/html,application/xhtml+xml,application/xml;q=0.9,image/avif,image/webp,image/apng,*/*;q=0.8\", \"Dnt\": \"1\", \"Connection\":\"close\", \"Upgrade-Insecure-Requests\": \"1\"} \n",
    "page = requests.get(url, headers = headers)\n",
    "Soup1  = BeautifulSoup(page.content, 'html.parser')\n",
    "Soup1  = BeautifulSoup(page.content, 'html')\n",
    "print(Soup1)"
   ]
  },
  {
   "cell_type": "code",
   "execution_count": null,
   "id": "e2b93d9d",
   "metadata": {},
   "outputs": [],
   "source": [
    "today = datetime.date.today()\n",
    "print(today)"
   ]
  },
  {
   "cell_type": "code",
   "execution_count": null,
   "id": "5dbfd3f6",
   "metadata": {},
   "outputs": [],
   "source": [
    "title = Soup1.find(id=\"productTitle\").get_text()\n",
    "print(title)"
   ]
  },
  {
   "cell_type": "code",
   "execution_count": null,
   "id": "1224c87e",
   "metadata": {},
   "outputs": [],
   "source": [
    "# To find out whether there is title or not \n",
    "title_element = Soup1.find(id=\"productTitle\")\n",
    "\n",
    "if title_element:\n",
    "    title = title_element.get_text()\n",
    "    print(title)\n",
    "else:\n",
    "    print(\"Title element not found.\")"
   ]
  },
  {
   "cell_type": "code",
   "execution_count": null,
   "id": "535b273b",
   "metadata": {},
   "outputs": [],
   "source": [
    "price = Soup1.find(id = 'Priceblock _outprice' ).get_text()\n",
    "print(price)"
   ]
  },
  {
   "cell_type": "code",
   "execution_count": null,
   "id": "4ccc9f08",
   "metadata": {},
   "outputs": [],
   "source": [
    "# If we run this code multiple times what it does is actually the price will reduce its value each time as we run it-\n",
    "# -for the first time it would be 16.99, then 6.99, then .99 and e like that. So be cautious \n",
    "price = price.strip()[1:]# Removing the spaces and the the symbol\n",
    "title = title.strip()\n",
    "print(title)\n",
    "print(price)"
   ]
  },
  {
   "cell_type": "code",
   "execution_count": null,
   "id": "e9132419",
   "metadata": {},
   "outputs": [],
   "source": [
    "import csv\n",
    "header = ['Title', 'Price', 'Date']\n",
    "data = [data, price]\n",
    "\n",
    "with open('Amazon_Web_scrapper_Dataset.csv', 'w', newline = '', encoding = 'UTFB') as f: # Automating to excel file\n",
    "    writer = csv.writer(f)\n",
    "    writer.writerow(header) # Initial insertion of data into csv or inserting the header\n",
    "    writer.writerow(data) # Inserting the data"
   ]
  },
  {
   "cell_type": "code",
   "execution_count": null,
   "id": "f8ebc262",
   "metadata": {},
   "outputs": [],
   "source": [
    "# Just to update the values on each time when adding new values\n",
    "df = pd.read_csv(copy the path of the file here)\n",
    "print(df)\n",
    "# If we run this code again and again we wil get the repeated answers and we don't want to do it manually we can automate this- \n",
    "# -which is defined in the below code as 'def auto_mate():'"
   ]
  },
  {
   "cell_type": "code",
   "execution_count": null,
   "id": "0e3573e4",
   "metadata": {},
   "outputs": [],
   "source": [
    "# Appending the data, no header is needed, replace 'w' with 'a+'\n",
    "# So what it does is go to the next free row amd append the data\n",
    "with open('Amazon_Web_scrapper_Dataset.csv', 'a+', newline = '', encoding = 'UTFB') as f: # Automating to excel file\n",
    "    writer = csv.writer(f)\n",
    "    writer.writerow(data)"
   ]
  },
  {
   "cell_type": "code",
   "execution_count": null,
   "id": "e9fe05c2",
   "metadata": {},
   "outputs": [],
   "source": [
    "from bs4 import BeautifulSoup\n",
    "import requests\n",
    "import smtplib # This is used to send email to yourself\n",
    "import time\n",
    "import datetime\n",
    "import csv\n",
    "import pandas as pd \n",
    "def auto_mate():\n",
    "    url = 'https://www.amazon.co.uk/Got-Data-MIS-Business-Analyst/dp/B09F319PK2/ref=sr_1_10?crid=2O4V7C3JRD3H0&keywords=data%2Banalyst%2Btshirt&qid=1700572020&sprefix=%2Caps%2C118&sr=8-10'\n",
    "    headers = {\"User-Agent\": \"Mozilla/5.0 (Windows NT 10.0; Win64; x64) AppleWebKit/537.36 (KHTML, like Gecko) Chrome/119.0.0.0 Safari/537.36\", \"Accept-Encoding\": \"gzip, deflate\", \"Accept\": \"text/html,application/xhtml+xml,application/xml;q=0.9,image/avif,image/webp,image/apng,*/*;q=0.8\", \"Dnt\": \"1\", \"Connection\":\"close\", \"Upgrade-Insecure-Requests\": \"1\"} \n",
    "    page = requests.get(url, headers = headers)\n",
    "    Soup1  = BeautifulSoup(page.content, 'html.parser')\n",
    "    Soup1  = BeautifulSoup(page.content, 'html')\n",
    "    title = Soup1.find(id=\"productTitle\").get_text()\n",
    "    price = Soup1.find(id = 'Priceblock _outprice' ).get_text()\n",
    "    price = price.strip()[1:]# Removing the spaces and the the symbol\n",
    "    title = title.strip()\n",
    "    today = datetime.date.today()\n",
    "    header = ['Title', 'Price', 'Date']\n",
    "    data = [data, price, today]\n",
    "    with open('Amazon_Web_scrapper_Dataset.csv', 'a+', newline = '', encoding = 'UTFB') as f: # Automating to excel file\n",
    "    writer = csv.writer(f)\n",
    "    writer.writerow(data)\n",
    "    \n",
    "if(price < 14): # If the condition meets then it will send the mail\n",
    "    send_mail()"
   ]
  },
  {
   "cell_type": "code",
   "execution_count": null,
   "id": "c405e3fc",
   "metadata": {},
   "outputs": [],
   "source": [
    "while(True):\n",
    "    check_price()\n",
    "    time.sleep(86400) # 3600 * 24, checks every single day"
   ]
  },
  {
   "cell_type": "code",
   "execution_count": null,
   "id": "4286211c",
   "metadata": {},
   "outputs": [],
   "source": [
    "df = pd.read_csv(copy the path of the file here)\n",
    "print(df)"
   ]
  },
  {
   "cell_type": "code",
   "execution_count": null,
   "id": "b39ef271",
   "metadata": {},
   "outputs": [],
   "source": [
    "# If want to try sending yourself an email (just for fun) when a price hits below a certain level\n",
    "\n",
    "def send_mail():\n",
    "    server = smtplib.SMTP_SSL('smtp.gmail.com',465)\n",
    "    server.ehlo()\n",
    "    #server.starttls()\n",
    "    server.ehlo()\n",
    "    server.login('jomonjoy2140@gmail.com','xxxxxxxxxxxxxx')\n",
    "    subject = \"The Shirt you want is below $15! Now is your chance to buy!\"\n",
    "    body = \"Jomon, This is the moment we have been waiting for. Now is your chance to pick up the shirt of your dreams. Don't mess it up! Link here: https://www.amazon.com/Funny-Data-Systems-Business-Analyst/dp/B07FNW9FGJ/ref=sr_1_3?dchild=1&keywords=data+analyst+tshirt&qid=1626655184&sr=8-3\"\n",
    "    msg = f\"Subject: {subject}\\n\\n{body}\"\n",
    "    server.sendmail('jomonjoy2140@gmail.com', msg)"
   ]
  }
 ],
 "metadata": {
  "kernelspec": {
   "display_name": "Python 3 (ipykernel)",
   "language": "python",
   "name": "python3"
  },
  "language_info": {
   "codemirror_mode": {
    "name": "ipython",
    "version": 3
   },
   "file_extension": ".py",
   "mimetype": "text/x-python",
   "name": "python",
   "nbconvert_exporter": "python",
   "pygments_lexer": "ipython3",
   "version": "3.9.13"
  }
 },
 "nbformat": 4,
 "nbformat_minor": 5
}
