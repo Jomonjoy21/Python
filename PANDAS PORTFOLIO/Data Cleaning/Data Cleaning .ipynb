{
 "cells": [
  {
   "cell_type": "markdown",
   "id": "f4709cfc",
   "metadata": {},
   "source": [
    "# Data Cleaning"
   ]
  },
  {
   "cell_type": "code",
   "execution_count": null,
   "id": "f2467844",
   "metadata": {},
   "outputs": [],
   "source": [
    "import pandas as pd \n",
    "df_ex = pd.read_excel(r\"C:\\Users\\hp\\Downloads\\Customer Call List.xlsx\")\n",
    "df_ex"
   ]
  },
  {
   "cell_type": "code",
   "execution_count": null,
   "id": "472d7e12",
   "metadata": {},
   "outputs": [],
   "source": [
    "df_ex = df_ex.drop_duplicates()\n",
    "df_ex"
   ]
  },
  {
   "cell_type": "code",
   "execution_count": null,
   "id": "2b92cedf",
   "metadata": {},
   "outputs": [],
   "source": [
    "df_ex.drop(columns = \"Not_Useful_Column\")\n",
    "df_ex"
   ]
  },
  {
   "cell_type": "code",
   "execution_count": null,
   "id": "801405e0",
   "metadata": {},
   "outputs": [],
   "source": [
    "# Use 'lstrip' and 'rstrip' conveniently\n",
    "# We don't want to save this to the dataframe so instead we save on its own\n",
    "df_ex[\"Last_Name\"] = df_ex[\"Last_Name\"].str.lstrip(\"...\")\n",
    "df_ex[\"Last_Name\"] = df_ex[\"Last_Name\"].str.lstrip(\"/\")\n",
    "df_ex[\"Last_Name\"] = df_ex[\"Last_Name\"].str.rstrip(\"_\")\n",
    "# We can do this in single strip, \n",
    "# df_ex[\"Last_Name\"] = df_ex[\"Last_Name\"].str.strip(\"123._/\")\n",
    "df_ex"
   ]
  },
  {
   "cell_type": "code",
   "execution_count": null,
   "id": "78f5dabc",
   "metadata": {},
   "outputs": [],
   "source": [
    "# Taking those and replacing with nothing\n",
    "df_ex[\"Phone_Number\"] = df_ex[\"Phone_Number\"].str.replace('[^a-zA-Z0-9]', '', regex=True)\n",
    "df_ex"
   ]
  },
  {
   "cell_type": "code",
   "execution_count": null,
   "id": "188f5016",
   "metadata": {},
   "outputs": [],
   "source": [
    "# If we try to separate give the hyphen it will give error, need to change to string because its a number\n",
    "# df_ex[\"Phone_Number\"].apply(lambda x: x[0:3] + '-' + x[3:6] + '-' + x [6:10])\n",
    "# Actually the phone number is in float but we need to change this to string \n",
    "df_ex[\"Phone_Number\"] = df_ex[\"Phone_Number\"].apply(lambda x: str(x)) # It will apply to each value instead of converting the whole column to string"
   ]
  },
  {
   "cell_type": "code",
   "execution_count": null,
   "id": "5ed47eda",
   "metadata": {},
   "outputs": [],
   "source": [
    "df_ex[\"Phone_Number\"] = df_ex[\"Phone_Number\"].apply(lambda x: x[0:3] + '-' + x[3:6] + '-' + x [6:10])\n",
    "df_ex"
   ]
  },
  {
   "cell_type": "code",
   "execution_count": null,
   "id": "b89f0204",
   "metadata": {},
   "outputs": [],
   "source": [
    "df_ex[\"Phone_Number\"] = df_ex[\"Phone_Number\"].str.replace('nan--', '')\n",
    "df_ex[\"Phone_Number\"] = df_ex[\"Phone_Number\"].str.replace('Na--', '')\n",
    "df_ex"
   ]
  },
  {
   "cell_type": "code",
   "execution_count": null,
   "id": "1f2e8acc",
   "metadata": {},
   "outputs": [],
   "source": [
    "df_ex[[\"Street Address\", \"State\", \"Zip_Code\"]] = df_ex[\"Address\"].str.split(',', n=2, expand=True)\n",
    "df_ex"
   ]
  },
  {
   "cell_type": "code",
   "execution_count": null,
   "id": "f9e051a1",
   "metadata": {},
   "outputs": [],
   "source": [
    "df_ex[\"Paying Customer\"] = df_ex[\"Paying Customer\"].str.replace('Yes', 'Y')\n",
    "df_ex[\"Paying Customer\"] = df_ex[\"Paying Customer\"].str.replace('No', 'N')\n",
    "df_ex"
   ]
  },
  {
   "cell_type": "code",
   "execution_count": null,
   "id": "cf84b23a",
   "metadata": {},
   "outputs": [],
   "source": [
    "df_ex[\"Do_Not_Contact\"] = df_ex[\"Do_Not_Contact\"].str.replace('Yes', 'Y')\n",
    "df_ex[\"Do_Not_Contact\"] = df_ex[\"Do_Not_Contact\"].str.replace('No', 'N')\n",
    "df_ex"
   ]
  },
  {
   "cell_type": "code",
   "execution_count": null,
   "id": "c6f61488",
   "metadata": {},
   "outputs": [],
   "source": [
    "# df_ex = df_ex.replace('N/a', '')\n",
    "# df_ex = df_ex.replace('NaN', '')\n",
    "# df_ex\n",
    "# The above code doesn't work and all the cells which contians no values can be removed by one code\n",
    "df_ex = df_ex.fillna('')\n",
    "df_ex"
   ]
  },
  {
   "cell_type": "code",
   "execution_count": null,
   "id": "9335561d",
   "metadata": {},
   "outputs": [],
   "source": [
    "for x in df_ex.index:\n",
    "    if df_ex.loc[x, \"Do_Not_Contact\"] == 'Y':\n",
    "        df_ex.drop(x, inplace = True)\n",
    "df_ex"
   ]
  },
  {
   "cell_type": "code",
   "execution_count": null,
   "id": "2d32d2e7",
   "metadata": {},
   "outputs": [],
   "source": [
    "for x in df_ex.index:\n",
    "    if df_ex.loc[x, \"Phone_Number\"] == '':\n",
    "        df_ex.drop(x, inplace = True)\n",
    "df_ex\n",
    "# df_ex = df_ex.dropna(subset = \"Phone_Number\"), inplace = True"
   ]
  },
  {
   "cell_type": "code",
   "execution_count": null,
   "id": "11694409",
   "metadata": {},
   "outputs": [],
   "source": [
    "df_ex.reset_index(drop = True) # It will remove the earlier index and set a new index"
   ]
  }
 ],
 "metadata": {
  "kernelspec": {
   "display_name": "Python 3 (ipykernel)",
   "language": "python",
   "name": "python3"
  },
  "language_info": {
   "codemirror_mode": {
    "name": "ipython",
    "version": 3
   },
   "file_extension": ".py",
   "mimetype": "text/x-python",
   "name": "python",
   "nbconvert_exporter": "python",
   "pygments_lexer": "ipython3",
   "version": "3.9.13"
  }
 },
 "nbformat": 4,
 "nbformat_minor": 5
}
