{
 "cells": [
  {
   "cell_type": "markdown",
   "id": "31d53310",
   "metadata": {},
   "source": [
    "# Exploratory Data Analysis"
   ]
  },
  {
   "cell_type": "code",
   "execution_count": null,
   "id": "dededa67",
   "metadata": {},
   "outputs": [],
   "source": [
    "import pandas as pd \n",
    "import seaborn as sns\n",
    "import matplotlib.pyplot as plt\n",
    "df_wp = pd.read_csv(r\"C:\\Users\\hp\\Downloads\\world_population.csv\")\n",
    "df_wp"
   ]
  },
  {
   "cell_type": "code",
   "execution_count": null,
   "id": "d19492c8",
   "metadata": {},
   "outputs": [],
   "source": [
    "pd.set_option('display.float_format', lambda x: '%.2f' % x) # to change the decimal point values\n",
    "df_wp"
   ]
  },
  {
   "cell_type": "code",
   "execution_count": null,
   "id": "2445c45f",
   "metadata": {},
   "outputs": [],
   "source": [
    "df_wp.info()"
   ]
  },
  {
   "cell_type": "code",
   "execution_count": null,
   "id": "797fd458",
   "metadata": {},
   "outputs": [],
   "source": [
    "df_wp.describe()"
   ]
  },
  {
   "cell_type": "code",
   "execution_count": null,
   "id": "3880b5a9",
   "metadata": {},
   "outputs": [],
   "source": [
    "df_wp.isnull().sum()"
   ]
  },
  {
   "cell_type": "code",
   "execution_count": null,
   "id": "3ed03305",
   "metadata": {},
   "outputs": [],
   "source": [
    "df_wp.nunique()"
   ]
  },
  {
   "cell_type": "code",
   "execution_count": null,
   "id": "ace5f2dc",
   "metadata": {},
   "outputs": [],
   "source": [
    "df_wp.sort_values(by = \"2022 Population\", ascending = False).head(10)"
   ]
  },
  {
   "cell_type": "code",
   "execution_count": null,
   "id": "75c4cfff",
   "metadata": {},
   "outputs": [],
   "source": [
    "df_wp.corr()"
   ]
  },
  {
   "cell_type": "code",
   "execution_count": null,
   "id": "93e4335d",
   "metadata": {},
   "outputs": [],
   "source": [
    "import numpy as np\n",
    "import pandas as pd \n",
    "import seaborn as sns\n",
    "import matplotlib.pyplot as plt\n",
    "# Step 1: Handle non-numeric values in the DataFrame\n",
    "# For example, you can drop non-numeric columns or convert them to numeric values\n",
    "# Replace 'column_name' with the actual column causing the issue\n",
    "df_wp_numeric = df_wp.select_dtypes(include=[np.number])\n",
    "\n",
    "# Step 2: Create the heatmap\n",
    "sns.heatmap(df_wp_numeric.corr(), annot=True)\n",
    "plt.rcParams['figure.figsize'] = (20, 7)\n",
    "plt.show()"
   ]
  },
  {
   "cell_type": "code",
   "execution_count": null,
   "id": "da2fbf25",
   "metadata": {},
   "outputs": [],
   "source": [
    "df_wp.groupby('Continent').mean()"
   ]
  },
  {
   "cell_type": "code",
   "execution_count": null,
   "id": "45dd525c",
   "metadata": {},
   "outputs": [],
   "source": [
    "df_wp[df_wp['Continent'].str.contains('Oceania')] # To find out what actually the Oceania means "
   ]
  },
  {
   "cell_type": "code",
   "execution_count": null,
   "id": "d405de5c",
   "metadata": {},
   "outputs": [],
   "source": [
    "# df_wp1 = df_wp.groupby('Continent').mean().sort_values(by = \"2022 Population\", ascending = False)\n",
    "df_wp1 = df_wp.groupby('Continent')[df_wp.columns[5:13]].mean().sort_values(by = \"2022 Population\", ascending = False) # Or\n",
    "#df_wp1 = df_wp.groupby('Continent')[['2022 Population',\n",
    "       #'2020 Population', '2015 Population', '2010 Population',\n",
    "       #'2000 Population', '1990 Population', '1980 Population',\n",
    "       #'1970 Population']].mean().sort_values(by = \"2022 Population\", ascending = False)\n",
    "df_wp1"
   ]
  },
  {
   "cell_type": "code",
   "execution_count": null,
   "id": "8e686e4d",
   "metadata": {},
   "outputs": [],
   "source": [
    "df_wp.columns"
   ]
  },
  {
   "cell_type": "code",
   "execution_count": null,
   "id": "326eca5b",
   "metadata": {},
   "outputs": [],
   "source": [
    "df_wp1.plot()"
   ]
  },
  {
   "cell_type": "code",
   "execution_count": null,
   "id": "f09acb83",
   "metadata": {},
   "outputs": [],
   "source": [
    "df_wp2 = df_wp1.transpose() # To change the values in the x and y axis vice versa\n",
    "df_wp2"
   ]
  },
  {
   "cell_type": "code",
   "execution_count": null,
   "id": "cfaabfc5",
   "metadata": {},
   "outputs": [],
   "source": [
    "df_wp2.plot()"
   ]
  },
  {
   "cell_type": "code",
   "execution_count": null,
   "id": "e37b2ac7",
   "metadata": {},
   "outputs": [],
   "source": [
    "# The image above needed to be reversed\n",
    "df_wp3 = df_wp.groupby('Continent')[df_wp.columns[5:13][::-1]].mean().sort_values(by = \"2022 Population\", ascending = False)\n",
    "df_wp3"
   ]
  },
  {
   "cell_type": "code",
   "execution_count": null,
   "id": "4c0ab9e8",
   "metadata": {},
   "outputs": [],
   "source": [
    "df_wp4 = df_wp3.transpose() # To change the values in the x and y axis vice versa\n",
    "df_wp4"
   ]
  },
  {
   "cell_type": "code",
   "execution_count": null,
   "id": "55227bc7",
   "metadata": {},
   "outputs": [],
   "source": [
    "plt.style.use('fivethirtyeight')\n",
    "df_wp4.plot()"
   ]
  },
  {
   "cell_type": "code",
   "execution_count": null,
   "id": "ef97d6da",
   "metadata": {},
   "outputs": [],
   "source": [
    "df_wp.boxplot(figsize = (25, 5))"
   ]
  },
  {
   "cell_type": "code",
   "execution_count": null,
   "id": "d4488293",
   "metadata": {},
   "outputs": [],
   "source": [
    "df_wp.dtypes"
   ]
  },
  {
   "cell_type": "code",
   "execution_count": null,
   "id": "79c06f67",
   "metadata": {},
   "outputs": [],
   "source": [
    "df_wp.select_dtypes(include = 'number')"
   ]
  }
 ],
 "metadata": {
  "kernelspec": {
   "display_name": "Python 3 (ipykernel)",
   "language": "python",
   "name": "python3"
  },
  "language_info": {
   "codemirror_mode": {
    "name": "ipython",
    "version": 3
   },
   "file_extension": ".py",
   "mimetype": "text/x-python",
   "name": "python",
   "nbconvert_exporter": "python",
   "pygments_lexer": "ipython3",
   "version": "3.9.13"
  }
 },
 "nbformat": 4,
 "nbformat_minor": 5
}
